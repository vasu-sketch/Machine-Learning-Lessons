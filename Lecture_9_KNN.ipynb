{
 "cells": [
  {
   "cell_type": "markdown",
   "id": "a4c37e80",
   "metadata": {},
   "source": [
    "# K-Nearest Neighbors Algorithm (Classification)\n",
    "\n",
    " 1) Create a K-NN model from scratch \n",
    "\n",
    " 2) Use sklearn to implement K-NN \n",
    " \n",
    " 3) Use sklearn to implement K-NN; use GridSearchCV and RandomizedSearchCV to select hyper-parameters\n",
    " \n",
    " 4) Use sklearn to implement K-NN and mlxtend to plot the desicion boundary"
   ]
  },
  {
   "cell_type": "markdown",
   "id": "ba86dfb4",
   "metadata": {},
   "source": [
    "## 1) Create a K-NN model from scratch "
   ]
  },
  {
   "cell_type": "code",
   "execution_count": 2,
   "id": "5dc40bea",
   "metadata": {},
   "outputs": [],
   "source": [
    "import numpy as np\n",
    "import pandas as pd\n",
    "import matplotlib.pyplot as plt\n",
    "import seaborn as sns\n",
    "\n",
    "from sklearn.model_selection import train_test_split"
   ]
  },
  {
   "cell_type": "code",
   "execution_count": 3,
   "id": "3a544496",
   "metadata": {},
   "outputs": [],
   "source": [
    "df = sns.load_dataset(\"iris\")"
   ]
  },
  {
   "cell_type": "code",
   "execution_count": 4,
   "id": "d1afd9d3",
   "metadata": {},
   "outputs": [
    {
     "data": {
      "image/png": "[encoded data removed]",
      "text/plain": [
       "<Figure size 576x432 with 1 Axes>"
      ]
     },
     "metadata": {
      "needs_background": "light"
     },
     "output_type": "display_data"
    }
   ],
   "source": [
    "df1 = df[df.species==\"setosa\"]\n",
    "df2 = df[df.species==\"versicolor\"]\n",
    "df3 = df[df.species==\"virginica\"]\n",
    "\n",
    "plt.figure(figsize = (8, 6))\n",
    "\n",
    "plt.scatter(df1.sepal_length, df1.sepal_width, color=\"red\", label =\"setosa\")\n",
    "plt.scatter(df2.sepal_length, df2.sepal_width, color=\"blue\", label=\"versicolor\")\n",
    "plt.scatter(df3.sepal_length, df3.sepal_width, color=\"green\", label=\"virginica\")\n",
    "plt.xlabel(\"sepal length\", fontsize=15)\n",
    "plt.ylabel(\"sepal width\", fontsize=15)\n",
    "plt.legend(fontsize=15);"
   ]
  },
  {
   "cell_type": "code",
   "execution_count": 5,
   "id": "e90bd57e",
   "metadata": {},
   "outputs": [],
   "source": [
    "X = df[[\"sepal_length\", \"sepal_width\"]].to_numpy()\n",
    "\n",
    "y = df[\"species\"].to_numpy()"
   ]
  },
  {
   "cell_type": "markdown",
   "id": "3a170a6c",
   "metadata": {},
   "source": [
    "---\n",
    "\n",
    "**Remark**: In machine learning we fit the model to the **training data** and we choose optimal hyper-parameters using the **validation data**. Then with those choices of hyper-parameters, we fit the model again to the training data, and we evaluate and report model prformance on the **test data**. \n",
    "\n",
    "---"
   ]
  },
  {
   "cell_type": "code",
   "execution_count": 6,
   "id": "f2f66f9d",
   "metadata": {},
   "outputs": [],
   "source": [
    "X_train_full, X_test, y_train_full, y_test = train_test_split(X, y, test_size=0.2, random_state=42)\n",
    "\n",
    "X_train, X_valid, y_train, y_valid = train_test_split(X_train_full, y_train_full, test_size=0.25, random_state=42)"
   ]
  },
  {
   "cell_type": "code",
   "execution_count": 7,
   "id": "347a4006",
   "metadata": {},
   "outputs": [
    {
     "data": {
      "text/plain": [
       "(90, 2)"
      ]
     },
     "execution_count": 7,
     "metadata": {},
     "output_type": "execute_result"
    }
   ],
   "source": [
    "X_train.shape"
   ]
  },
  {
   "cell_type": "code",
   "execution_count": 8,
   "id": "b147c4cc",
   "metadata": {},
   "outputs": [
    {
     "data": {
      "text/plain": [
       "(30, 2)"
      ]
     },
     "execution_count": 8,
     "metadata": {},
     "output_type": "execute_result"
    }
   ],
   "source": [
    "X_valid.shape"
   ]
  },
  {
   "cell_type": "code",
   "execution_count": 9,
   "id": "3957d655",
   "metadata": {},
   "outputs": [
    {
     "data": {
      "text/plain": [
       "(30, 2)"
      ]
     },
     "execution_count": 9,
     "metadata": {},
     "output_type": "execute_result"
    }
   ],
   "source": [
    "X_test.shape"
   ]
  },
  {
   "cell_type": "code",
   "execution_count": 10,
   "id": "82a54e52",
   "metadata": {},
   "outputs": [
    {
     "name": "stdout",
     "output_type": "stream",
     "text": [
      "The distance between X_train[0] and X_train[1] is 3.026549190084311\n"
     ]
    }
   ],
   "source": [
    "# We define Euclidean distance function\n",
    "\n",
    "def distance(p, q):\n",
    "    return np.sqrt((p - q) @ (p - q))\n",
    "\n",
    "print(f\"The distance between X_train[0] and X_train[1] is {distance(X_train[0], X_train[1])}\")"
   ]
  },
  {
   "cell_type": "code",
   "execution_count": 12,
   "id": "f8f58403",
   "metadata": {},
   "outputs": [],
   "source": [
    "# We define a function that will create a list of k nearest neighbors from the training data set to a given test point\n",
    "# For each such neighbor, this list will store: features of that neighbor, its label, and its distance to the test point\n",
    "\n",
    "def k_nearest_neighbors(point, \n",
    "                        training_features, \n",
    "                        training_labels, \n",
    "                        k):\n",
    "\n",
    "    neighbors = []\n",
    "    \n",
    "    for p, l in zip(training_features, training_labels):\n",
    "        d = distance(point, p)\n",
    "        info = [p, l, d]\n",
    "        neighbors.append(info)\n",
    "        \n",
    "    neighbors.sort(key = lambda x : x[-1])\n",
    "    \n",
    "    return neighbors[:k]"
   ]
  },
  {
   "cell_type": "code",
   "execution_count": 13,
   "id": "2cbb6c6a",
   "metadata": {},
   "outputs": [
    {
     "data": {
      "text/plain": [
       "[[array([6.1, 2.9]), 'versicolor', 0.09999999999999964],\n",
       " [array([6.1, 3. ]), 'versicolor', 0.1414213562373093],\n",
       " [array([5.9, 3. ]), 'virginica', 0.1414213562373093],\n",
       " [array([6.1, 2.8]), 'versicolor', 0.1414213562373093],\n",
       " [array([5.9, 3. ]), 'versicolor', 0.1414213562373093],\n",
       " [array([6.2, 2.9]), 'versicolor', 0.20000000000000018],\n",
       " [array([5.8, 2.8]), 'virginica', 0.22360679774997916]]"
      ]
     },
     "execution_count": 13,
     "metadata": {},
     "output_type": "execute_result"
    }
   ],
   "source": [
    "# Check the k_nearest_neighbors function for a test data point\n",
    "\n",
    "k_nearest_neighbors(X_test[3], X_train, y_train, 7)"
   ]
  },
  {
   "cell_type": "code",
   "execution_count": 14,
   "id": "c7619445",
   "metadata": {},
   "outputs": [
    {
     "data": {
      "text/plain": [
       "'versicolor'"
      ]
     },
     "execution_count": 14,
     "metadata": {},
     "output_type": "execute_result"
    }
   ],
   "source": [
    "y_test[3]"
   ]
  },
  {
   "cell_type": "code",
   "execution_count": 16,
   "id": "a42edadf",
   "metadata": {},
   "outputs": [],
   "source": [
    "# We write a function that makes prediction for both classification and regression\n",
    "\n",
    "def knn_predict(point, \n",
    "                training_features, \n",
    "                training_labels, \n",
    "                k, \n",
    "                regression = False):\n",
    "    \n",
    "    neighbors = k_nearest_neighbors(point, \n",
    "                                    training_features, \n",
    "                                    training_labels, \n",
    "                                    k)\n",
    "    \n",
    "    labels = [x[1] for x in neighbors]\n",
    "    \n",
    "    if regression == False:\n",
    "        return max(labels, key = labels.count)\n",
    "    else:\n",
    "        return sum(x[1] for x in labels)/k"
   ]
  },
  {
   "cell_type": "code",
   "execution_count": 17,
   "id": "9f7674e6",
   "metadata": {},
   "outputs": [
    {
     "data": {
      "text/plain": [
       "'setosa'"
      ]
     },
     "execution_count": 17,
     "metadata": {},
     "output_type": "execute_result"
    }
   ],
   "source": [
    "labels = ['setosa', 'setosa', 'virginica', 'setosa', 'virginica']\n",
    "max(labels, key = labels.count)"
   ]
  },
  {
   "cell_type": "code",
   "execution_count": 18,
   "id": "70a803c6",
   "metadata": {},
   "outputs": [
    {
     "data": {
      "text/plain": [
       "'versicolor'"
      ]
     },
     "execution_count": 18,
     "metadata": {},
     "output_type": "execute_result"
    }
   ],
   "source": [
    "# Check this function\n",
    "\n",
    "knn_predict(X_test[3], X_train, y_train, 7)"
   ]
  },
  {
   "cell_type": "code",
   "execution_count": 20,
   "id": "aeb0047b",
   "metadata": {},
   "outputs": [],
   "source": [
    "def accuracy(test_features, \n",
    "             test_labels,\n",
    "             training_features, \n",
    "             training_labels,\n",
    "             k):\n",
    "    \n",
    "    correct = 0\n",
    "    for point, label in zip(test_features, test_labels):\n",
    "        correct += label == knn_predict(point, \n",
    "                                        training_features, \n",
    "                                        training_labels, \n",
    "                                        k)\n",
    "    return correct/len(test_features)"
   ]
  },
  {
   "cell_type": "code",
   "execution_count": 21,
   "id": "4ad94a9c",
   "metadata": {},
   "outputs": [
    {
     "data": {
      "text/plain": [
       "0.6666666666666666"
      ]
     },
     "execution_count": 21,
     "metadata": {},
     "output_type": "execute_result"
    }
   ],
   "source": [
    "# Check  this function\n",
    "\n",
    "accuracy(X_valid, y_valid, X_train, y_train, 7)"
   ]
  },
  {
   "cell_type": "code",
   "execution_count": 22,
   "id": "be30137b",
   "metadata": {},
   "outputs": [
    {
     "data": {
      "image/png": "[encoded data removed]",
      "text/plain": [
       "<Figure size 576x432 with 1 Axes>"
      ]
     },
     "metadata": {
      "needs_background": "light"
     },
     "output_type": "display_data"
    }
   ],
   "source": [
    "k_values = [k for k in range(3, 50, 2)]\n",
    "accuracy_values = [accuracy(X_valid,\n",
    "                            y_valid,\n",
    "                            X_train,\n",
    "                            y_train, k) for k in k_values]\n",
    "\n",
    "plt.figure(figsize = (8, 6))\n",
    "\n",
    "plt.plot(k_values, accuracy_values, marker = \"o\")\n",
    "plt.title('Accuracy Score on the Validation Data')\n",
    "plt.xlabel('k')\n",
    "plt.ylabel('Accuracy')\n",
    "plt.xticks(k_values)\n",
    "plt.grid();"
   ]
  },
  {
   "cell_type": "code",
   "execution_count": 23,
   "id": "0f6f9ae4",
   "metadata": {},
   "outputs": [
    {
     "data": {
      "text/plain": [
       "0.9"
      ]
     },
     "execution_count": 23,
     "metadata": {},
     "output_type": "execute_result"
    }
   ],
   "source": [
    "# We choose the optimal value for k from the above graph, \n",
    "# we fit the model again on the training data and \n",
    "# we report the error on the test data\n",
    "\n",
    "accuracy(X_test, y_test, X_train, y_train, 25)"
   ]
  },
  {
   "cell_type": "markdown",
   "id": "44837699",
   "metadata": {},
   "source": [
    "## 2) Use sklearn to implement K-NN "
   ]
  },
  {
   "cell_type": "code",
   "execution_count": 24,
   "id": "7df17961",
   "metadata": {},
   "outputs": [],
   "source": [
    "from sklearn.neighbors import KNeighborsClassifier\n",
    "from sklearn.metrics import confusion_matrix, accuracy_score, classification_report\n",
    "\n",
    "X = df[[\"sepal_length\", \"sepal_width\"]]\n",
    "y = df[\"species\"]"
   ]
  },
  {
   "cell_type": "code",
   "execution_count": 25,
   "id": "842396b2",
   "metadata": {},
   "outputs": [],
   "source": [
    "X_train_full, X_test, y_train_full, y_test = train_test_split(X, y, test_size=0.2, random_state=42)\n",
    "\n",
    "X_train, X_valid, y_train, y_valid = train_test_split(X_train_full, y_train_full, test_size=0.25, random_state=42)"
   ]
  },
  {
   "cell_type": "code",
   "execution_count": 26,
   "id": "d804c792",
   "metadata": {},
   "outputs": [
    {
     "data": {
      "text/plain": [
       "KNeighborsClassifier(n_neighbors=7)"
      ]
     },
     "execution_count": 26,
     "metadata": {},
     "output_type": "execute_result"
    }
   ],
   "source": [
    "model = KNeighborsClassifier(n_neighbors=7)\n",
    "model.fit(X_train, y_train)"
   ]
  },
  {
   "cell_type": "code",
   "execution_count": 27,
   "id": "e64fcc52",
   "metadata": {},
   "outputs": [
    {
     "data": {
      "text/plain": [
       "array(['virginica', 'versicolor', 'setosa', 'setosa', 'setosa',\n",
       "       'virginica', 'virginica', 'versicolor', 'versicolor', 'virginica',\n",
       "       'versicolor', 'virginica', 'virginica', 'versicolor', 'versicolor',\n",
       "       'versicolor', 'versicolor', 'setosa', 'versicolor', 'setosa',\n",
       "       'versicolor', 'versicolor', 'setosa', 'setosa', 'versicolor',\n",
       "       'virginica', 'versicolor', 'setosa', 'versicolor', 'virginica'],\n",
       "      dtype=object)"
      ]
     },
     "execution_count": 27,
     "metadata": {},
     "output_type": "execute_result"
    }
   ],
   "source": [
    "y_pred = model.predict(X_valid)\n",
    "y_pred"
   ]
  },
  {
   "cell_type": "code",
   "execution_count": 28,
   "id": "003224cc",
   "metadata": {},
   "outputs": [
    {
     "data": {
      "text/plain": [
       "0.6333333333333333"
      ]
     },
     "execution_count": 28,
     "metadata": {},
     "output_type": "execute_result"
    }
   ],
   "source": [
    "accuracy_score(y_valid, y_pred)"
   ]
  },
  {
   "cell_type": "code",
   "execution_count": 29,
   "id": "19b677ab",
   "metadata": {},
   "outputs": [
    {
     "data": {
      "text/plain": [
       "array([[8, 1, 0],\n",
       "       [0, 8, 5],\n",
       "       [0, 5, 3]], dtype=int64)"
      ]
     },
     "execution_count": 29,
     "metadata": {},
     "output_type": "execute_result"
    }
   ],
   "source": [
    "cm = confusion_matrix(y_valid, y_pred)\n",
    "cm"
   ]
  },
  {
   "cell_type": "code",
   "execution_count": 30,
   "id": "ca2b913a",
   "metadata": {},
   "outputs": [
    {
     "data": {
      "image/png": "[encoded data removed]",
      "text/plain": [
       "<Figure size 432x288 with 2 Axes>"
      ]
     },
     "metadata": {
      "needs_background": "light"
     },
     "output_type": "display_data"
    }
   ],
   "source": [
    "sns.heatmap(cm,\n",
    "           annot=True,\n",
    "           annot_kws={\"size\":15},\n",
    "           xticklabels=['setosa', 'versicolor', 'virginica'],\n",
    "           yticklabels=['setosa', 'versicolor', 'virginica'])\n",
    "plt.xlabel('Predicted')\n",
    "plt.ylabel('Actual');"
   ]
  },
  {
   "cell_type": "code",
   "execution_count": 31,
   "id": "86001161",
   "metadata": {},
   "outputs": [
    {
     "name": "stdout",
     "output_type": "stream",
     "text": [
      "              precision    recall  f1-score   support\n",
      "\n",
      "      setosa       1.00      0.89      0.94         9\n",
      "  versicolor       0.57      0.62      0.59        13\n",
      "   virginica       0.38      0.38      0.38         8\n",
      "\n",
      "    accuracy                           0.63        30\n",
      "   macro avg       0.65      0.63      0.64        30\n",
      "weighted avg       0.65      0.63      0.64        30\n",
      "\n"
     ]
    }
   ],
   "source": [
    "print(classification_report(y_valid, y_pred))"
   ]
  },
  {
   "cell_type": "code",
   "execution_count": 32,
   "id": "b225b916",
   "metadata": {},
   "outputs": [
    {
     "data": {
      "image/png": "[encoded data removed]",
      "text/plain": [
       "<Figure size 576x432 with 1 Axes>"
      ]
     },
     "metadata": {
      "needs_background": "light"
     },
     "output_type": "display_data"
    }
   ],
   "source": [
    "k_values = []\n",
    "acc_score = []\n",
    "\n",
    "for k in range(1, 50, 2):\n",
    "    model = KNeighborsClassifier(n_neighbors = k)\n",
    "    model.fit(X_train, y_train)\n",
    "    y_pred = model.predict(X_valid)\n",
    "    acc_score.append(accuracy_score(y_valid, y_pred))\n",
    "    k_values.append(k)\n",
    "\n",
    "\n",
    "plt.figure(figsize = (8, 6))\n",
    "\n",
    "plt.plot(k_values, acc_score, marker = \"o\")\n",
    "plt.title(\"Accuracy Score on the Validation Data\")\n",
    "plt.xlabel(\"k\")\n",
    "plt.ylabel(\"accuracy score\")\n",
    "plt.xticks(k_values)\n",
    "plt.grid();"
   ]
  },
  {
   "cell_type": "code",
   "execution_count": 33,
   "id": "f2e74189",
   "metadata": {},
   "outputs": [
    {
     "data": {
      "text/plain": [
       "0.8333333333333334"
      ]
     },
     "execution_count": 33,
     "metadata": {},
     "output_type": "execute_result"
    }
   ],
   "source": [
    "m = max(acc_score)\n",
    "m"
   ]
  },
  {
   "cell_type": "code",
   "execution_count": 34,
   "id": "df465221",
   "metadata": {},
   "outputs": [
    {
     "data": {
      "text/plain": [
       "25"
      ]
     },
     "execution_count": 34,
     "metadata": {},
     "output_type": "execute_result"
    }
   ],
   "source": [
    "k_values[acc_score.index(m)]"
   ]
  },
  {
   "cell_type": "code",
   "execution_count": 35,
   "id": "41e488dd",
   "metadata": {},
   "outputs": [
    {
     "data": {
      "text/plain": [
       "0.9333333333333333"
      ]
     },
     "execution_count": 35,
     "metadata": {},
     "output_type": "execute_result"
    }
   ],
   "source": [
    "model = KNeighborsClassifier(n_neighbors = 25)\n",
    "model.fit(X_train, y_train)\n",
    "y_pred = model.predict(X_test)\n",
    "accuracy_score(y_test, y_pred)"
   ]
  },
  {
   "cell_type": "markdown",
   "id": "e0b4d586",
   "metadata": {},
   "source": [
    "## 3) Use GridSearchCV and RandomizedSearchCV to select hyper-parameters"
   ]
  },
  {
   "cell_type": "code",
   "execution_count": 37,
   "id": "7eec8b2e",
   "metadata": {},
   "outputs": [],
   "source": [
    "from sklearn.model_selection import cross_val_score, GridSearchCV, RandomizedSearchCV"
   ]
  },
  {
   "cell_type": "code",
   "execution_count": 38,
   "id": "7aa27d04",
   "metadata": {},
   "outputs": [],
   "source": [
    "X = df[[\"sepal_length\", \"sepal_width\"]]\n",
    "y = df[\"species\"]\n",
    "\n",
    "X_train, X_test, y_train, y_test = train_test_split(X, y, test_size=0.2, random_state=42)"
   ]
  },
  {
   "cell_type": "code",
   "execution_count": 39,
   "id": "7f817931",
   "metadata": {},
   "outputs": [
    {
     "data": {
      "text/plain": [
       "array([0.66666667, 0.75      , 0.79166667, 0.70833333, 0.70833333])"
      ]
     },
     "execution_count": 39,
     "metadata": {},
     "output_type": "execute_result"
    }
   ],
   "source": [
    "cv_scores = cross_val_score(KNeighborsClassifier(n_neighbors=10), \n",
    "                            X_train, \n",
    "                            y_train, \n",
    "                            cv=5, # no shuffle, stratified for classifiers, default value 5\n",
    "                            #cv=KFold(n_splits=5, shuffle=True), \n",
    "                            #cv=StratifiedKFold(n_splits=5, shuffle=True),\n",
    "                            #cv=RepeatedKFold(n_splits=5, n_repeats=3),\n",
    "                            scoring='accuracy')\n",
    "\n",
    "cv_scores"
   ]
  },
  {
   "cell_type": "code",
   "execution_count": 40,
   "id": "ec55ae54",
   "metadata": {},
   "outputs": [
    {
     "name": "stdout",
     "output_type": "stream",
     "text": [
      "[0.67 0.75 0.79 0.71 0.71]\n",
      "Average accuracy: 0.725\n",
      "Accuracy standard deviation: 0.042491829279939865\n"
     ]
    },
    {
     "data": {
      "image/png": "[encoded data removed]",
      "text/plain": [
       "<Figure size 432x288 with 1 Axes>"
      ]
     },
     "metadata": {
      "needs_background": "light"
     },
     "output_type": "display_data"
    }
   ],
   "source": [
    "plt.plot(range(1, 6), cv_scores, marker='o')\n",
    "plt.ylim(0, 1)\n",
    "plt.ylabel('Accuracy score', fontsize=15)\n",
    "plt.xlabel('Fold', fontsize=15)\n",
    "plt.xticks(range(1,6))\n",
    "\n",
    "print(np.round(cv_scores,2))\n",
    "print('Average accuracy:', cv_scores.mean())\n",
    "print('Accuracy standard deviation:', cv_scores.std());  "
   ]
  },
  {
   "cell_type": "code",
   "execution_count": 41,
   "id": "8d88cacd",
   "metadata": {},
   "outputs": [
    {
     "data": {
      "text/plain": [
       "{'mean_fit_time': array([0.00130339, 0.        , 0.00312362, 0.0062438 , 0.        ,\n",
       "        0.        , 0.        , 0.        , 0.        , 0.        ,\n",
       "        0.        , 0.003123  , 0.        , 0.00312643, 0.003125  ,\n",
       "        0.        , 0.        , 0.        , 0.        , 0.00312591,\n",
       "        0.        , 0.00312438, 0.        , 0.        , 0.003125  ,\n",
       "        0.        , 0.        , 0.00312672, 0.        , 0.        ,\n",
       "        0.        , 0.        , 0.        , 0.00312519, 0.00312505,\n",
       "        0.00312247, 0.00312605, 0.00311036, 0.        , 0.00312405,\n",
       "        0.00312505, 0.00312457, 0.00314002, 0.00312257, 0.        ,\n",
       "        0.        , 0.00311112, 0.0031249 , 0.        , 0.00312457,\n",
       "        0.00312471, 0.00312452, 0.00312471, 0.        , 0.        ,\n",
       "        0.00312452, 0.00312839, 0.00312471, 0.        , 0.        ,\n",
       "        0.00312462, 0.00153899, 0.00160923, 0.00099821, 0.        ,\n",
       "        0.00313878, 0.00312505, 0.00312428, 0.00351896, 0.00027647,\n",
       "        0.        , 0.        , 0.        , 0.        , 0.00120316,\n",
       "        0.00160561, 0.        , 0.        , 0.        , 0.        ,\n",
       "        0.00312314, 0.00312309, 0.00312681, 0.0031251 , 0.        ,\n",
       "        0.00312314, 0.        , 0.0031261 , 0.00312443, 0.00624795,\n",
       "        0.        , 0.        , 0.00312405, 0.        , 0.        ,\n",
       "        0.00312471, 0.00327687, 0.        , 0.        , 0.0031239 ,\n",
       "        0.00312533, 0.        , 0.00312519, 0.0031074 , 0.        ,\n",
       "        0.        , 0.00626583, 0.        , 0.        , 0.003125  ,\n",
       "        0.00312386, 0.        , 0.        , 0.        , 0.        ,\n",
       "        0.        , 0.        , 0.        , 0.        , 0.        ,\n",
       "        0.0031251 , 0.        , 0.        , 0.00312228, 0.00312514,\n",
       "        0.        , 0.        , 0.00312448, 0.        , 0.        ,\n",
       "        0.0031251 , 0.        , 0.        , 0.        , 0.        ,\n",
       "        0.        , 0.0031106 , 0.        , 0.        , 0.00314021,\n",
       "        0.00312686, 0.00312309, 0.        , 0.        , 0.00624971,\n",
       "        0.        , 0.00312333, 0.00312896, 0.00312114, 0.00312052,\n",
       "        0.        , 0.        , 0.        , 0.        , 0.        ,\n",
       "        0.00312743, 0.00312304, 0.00312347, 0.        , 0.        ,\n",
       "        0.        , 0.        , 0.00312223, 0.00312548, 0.00312629,\n",
       "        0.00121479, 0.00143704, 0.00119238, 0.00166745, 0.00238385,\n",
       "        0.00269876, 0.0025795 , 0.00145249, 0.00112648, 0.00252132,\n",
       "        0.00255685, 0.00121317, 0.00101042, 0.00123534, 0.00079746,\n",
       "        0.        , 0.000806  , 0.00121322, 0.00179062, 0.00121331,\n",
       "        0.00251641, 0.00201063, 0.00213079, 0.        , 0.00312333,\n",
       "        0.00312347, 0.        , 0.        , 0.00312505, 0.00312138,\n",
       "        0.        , 0.        , 0.        , 0.00312409, 0.        ]),\n",
       " 'std_fit_time': array([8.78881867e-04, 0.00000000e+00, 6.24723434e-03, 7.64706448e-03,\n",
       "        0.00000000e+00, 0.00000000e+00, 0.00000000e+00, 0.00000000e+00,\n",
       "        0.00000000e+00, 0.00000000e+00, 0.00000000e+00, 6.24599457e-03,\n",
       "        0.00000000e+00, 6.25286102e-03, 6.25000000e-03, 0.00000000e+00,\n",
       "        0.00000000e+00, 0.00000000e+00, 0.00000000e+00, 6.25181198e-03,\n",
       "        0.00000000e+00, 6.24876022e-03, 0.00000000e+00, 0.00000000e+00,\n",
       "        6.25000000e-03, 0.00000000e+00, 0.00000000e+00, 6.25343323e-03,\n",
       "        0.00000000e+00, 0.00000000e+00, 0.00000000e+00, 0.00000000e+00,\n",
       "        0.00000000e+00, 6.25038147e-03, 6.25009537e-03, 6.24494553e-03,\n",
       "        6.25209808e-03, 6.22072220e-03, 0.00000000e+00, 6.24809265e-03,\n",
       "        6.25009537e-03, 6.24914169e-03, 6.28004074e-03, 6.24513626e-03,\n",
       "        0.00000000e+00, 0.00000000e+00, 6.22224808e-03, 6.24980927e-03,\n",
       "        0.00000000e+00, 6.24914169e-03, 6.24942780e-03, 6.24904633e-03,\n",
       "        6.24942780e-03, 0.00000000e+00, 0.00000000e+00, 6.24904633e-03,\n",
       "        6.25677109e-03, 6.24942780e-03, 0.00000000e+00, 0.00000000e+00,\n",
       "        6.24923706e-03, 1.29445211e-03, 7.87978902e-04, 9.30919989e-06,\n",
       "        0.00000000e+00, 6.27756119e-03, 6.25009537e-03, 6.24856949e-03,\n",
       "        6.10923675e-03, 4.30773659e-04, 0.00000000e+00, 0.00000000e+00,\n",
       "        0.00000000e+00, 0.00000000e+00, 1.47359744e-03, 1.01177696e-03,\n",
       "        0.00000000e+00, 0.00000000e+00, 0.00000000e+00, 0.00000000e+00,\n",
       "        6.24628067e-03, 6.24618530e-03, 6.25362396e-03, 6.25019073e-03,\n",
       "        0.00000000e+00, 6.24628067e-03, 0.00000000e+00, 6.25219345e-03,\n",
       "        6.24885559e-03, 7.65214492e-03, 0.00000000e+00, 0.00000000e+00,\n",
       "        6.24809265e-03, 0.00000000e+00, 0.00000000e+00, 6.24942780e-03,\n",
       "        6.55374527e-03, 0.00000000e+00, 0.00000000e+00, 6.24780655e-03,\n",
       "        6.25066757e-03, 0.00000000e+00, 6.25038147e-03, 6.21480942e-03,\n",
       "        0.00000000e+00, 0.00000000e+00, 7.67409453e-03, 0.00000000e+00,\n",
       "        0.00000000e+00, 6.25000000e-03, 6.24771118e-03, 0.00000000e+00,\n",
       "        0.00000000e+00, 0.00000000e+00, 0.00000000e+00, 0.00000000e+00,\n",
       "        0.00000000e+00, 0.00000000e+00, 0.00000000e+00, 0.00000000e+00,\n",
       "        6.25019073e-03, 0.00000000e+00, 0.00000000e+00, 6.24456406e-03,\n",
       "        6.25028610e-03, 0.00000000e+00, 0.00000000e+00, 6.24895096e-03,\n",
       "        0.00000000e+00, 0.00000000e+00, 6.25019073e-03, 0.00000000e+00,\n",
       "        0.00000000e+00, 0.00000000e+00, 0.00000000e+00, 0.00000000e+00,\n",
       "        6.22119904e-03, 0.00000000e+00, 0.00000000e+00, 6.28042221e-03,\n",
       "        6.25371933e-03, 6.24618530e-03, 0.00000000e+00, 0.00000000e+00,\n",
       "        7.65430570e-03, 0.00000000e+00, 6.24666214e-03, 6.25791550e-03,\n",
       "        6.24227524e-03, 6.24103546e-03, 0.00000000e+00, 0.00000000e+00,\n",
       "        0.00000000e+00, 0.00000000e+00, 0.00000000e+00, 6.25486374e-03,\n",
       "        6.24608994e-03, 6.24694824e-03, 0.00000000e+00, 0.00000000e+00,\n",
       "        0.00000000e+00, 0.00000000e+00, 6.24446869e-03, 6.25095367e-03,\n",
       "        6.25257492e-03, 7.43923420e-04, 4.84175989e-04, 3.97915406e-04,\n",
       "        8.61490404e-04, 4.76350264e-04, 4.50367145e-04, 4.86912439e-04,\n",
       "        4.72507788e-04, 4.91796202e-04, 4.66673986e-04, 1.01959082e-03,\n",
       "        4.25734827e-04, 3.36712542e-05, 3.90111918e-04, 7.45266388e-04,\n",
       "        0.00000000e+00, 9.87238148e-04, 3.98309091e-04, 3.95543238e-04,\n",
       "        4.33328453e-04, 9.40007409e-04, 8.84110453e-04, 1.12600488e-03,\n",
       "        0.00000000e+00, 6.24666214e-03, 6.24694824e-03, 0.00000000e+00,\n",
       "        0.00000000e+00, 6.25009537e-03, 6.24275208e-03, 0.00000000e+00,\n",
       "        0.00000000e+00, 0.00000000e+00, 6.24818802e-03, 0.00000000e+00]),\n",
       " 'mean_score_time': array([0.01376624, 0.        , 0.        , 0.        , 0.00312567,\n",
       "        0.        , 0.        , 0.00312486, 0.00312443, 0.00312514,\n",
       "        0.00312457, 0.        , 0.        , 0.        , 0.00312481,\n",
       "        0.003123  , 0.00312529, 0.003124  , 0.        , 0.        ,\n",
       "        0.00312409, 0.        , 0.00312724, 0.00312366, 0.        ,\n",
       "        0.        , 0.00312271, 0.        , 0.00314126, 0.00316563,\n",
       "        0.00312591, 0.        , 0.00312324, 0.        , 0.        ,\n",
       "        0.        , 0.        , 0.        , 0.        , 0.        ,\n",
       "        0.        , 0.        , 0.00312519, 0.        , 0.0031261 ,\n",
       "        0.003123  , 0.00312438, 0.        , 0.0031239 , 0.        ,\n",
       "        0.        , 0.        , 0.        , 0.        , 0.00312481,\n",
       "        0.        , 0.00314102, 0.        , 0.00312452, 0.        ,\n",
       "        0.        , 0.00424776, 0.00218062, 0.0014112 , 0.        ,\n",
       "        0.        , 0.        , 0.        , 0.00126896, 0.00055704,\n",
       "        0.00314703, 0.00350027, 0.00312381, 0.00312371, 0.00654659,\n",
       "        0.00159707, 0.00314093, 0.00312281, 0.00312476, 0.0031249 ,\n",
       "        0.        , 0.        , 0.        , 0.        , 0.        ,\n",
       "        0.        , 0.        , 0.        , 0.00312634, 0.        ,\n",
       "        0.00312333, 0.00312505, 0.        , 0.        , 0.003125  ,\n",
       "        0.        , 0.        , 0.00314155, 0.00312638, 0.00318527,\n",
       "        0.        , 0.        , 0.        , 0.        , 0.00312529,\n",
       "        0.        , 0.        , 0.00312357, 0.00312405, 0.        ,\n",
       "        0.00312672, 0.00624943, 0.00312185, 0.00312481, 0.00312471,\n",
       "        0.        , 0.00312481, 0.00312443, 0.00312834, 0.00312266,\n",
       "        0.        , 0.        , 0.00312481, 0.        , 0.        ,\n",
       "        0.        , 0.        , 0.        , 0.00312428, 0.00312538,\n",
       "        0.00312433, 0.00312295, 0.0031251 , 0.00312495, 0.00312405,\n",
       "        0.        , 0.00312543, 0.00312438, 0.0031239 , 0.        ,\n",
       "        0.        , 0.        , 0.        , 0.00312371, 0.        ,\n",
       "        0.00312514, 0.        , 0.        , 0.        , 0.        ,\n",
       "        0.00312352, 0.        , 0.        , 0.00312386, 0.00312438,\n",
       "        0.        , 0.        , 0.        , 0.00312462, 0.00152011,\n",
       "        0.00314269, 0.        , 0.        , 0.        , 0.0031229 ,\n",
       "        0.00444417, 0.00138106, 0.00118537, 0.00325251, 0.00400229,\n",
       "        0.00382476, 0.00337434, 0.0016614 , 0.00180593, 0.00340018,\n",
       "        0.00220733, 0.00198202, 0.00139136, 0.00145769, 0.00101948,\n",
       "        0.00315285, 0.00361943, 0.00279121, 0.0021771 , 0.00232306,\n",
       "        0.00346208, 0.00317917, 0.0017941 , 0.00314097, 0.        ,\n",
       "        0.        , 0.        , 0.00312777, 0.        , 0.        ,\n",
       "        0.00312657, 0.        , 0.00625005, 0.00310993, 0.        ]),\n",
       " 'std_score_time': array([0.01701522, 0.        , 0.        , 0.        , 0.00625134,\n",
       "        0.        , 0.        , 0.00624971, 0.00624886, 0.00625029,\n",
       "        0.00624914, 0.        , 0.        , 0.        , 0.00624962,\n",
       "        0.00624599, 0.00625057, 0.006248  , 0.        , 0.        ,\n",
       "        0.00624819, 0.        , 0.00625448, 0.00624733, 0.        ,\n",
       "        0.        , 0.00624542, 0.        , 0.00628252, 0.00633125,\n",
       "        0.00625181, 0.        , 0.00624647, 0.        , 0.        ,\n",
       "        0.        , 0.        , 0.        , 0.        , 0.        ,\n",
       "        0.        , 0.        , 0.00625038, 0.        , 0.00625219,\n",
       "        0.00624599, 0.00624876, 0.        , 0.00624781, 0.        ,\n",
       "        0.        , 0.        , 0.        , 0.        , 0.00624962,\n",
       "        0.        , 0.00628204, 0.        , 0.00624905, 0.        ,\n",
       "        0.        , 0.00577342, 0.00074895, 0.0004714 , 0.        ,\n",
       "        0.        , 0.        , 0.        , 0.00170805, 0.00071114,\n",
       "        0.00629406, 0.00700054, 0.00624762, 0.00624743, 0.00585721,\n",
       "        0.00135256, 0.00628185, 0.00624561, 0.00624952, 0.00624981,\n",
       "        0.        , 0.        , 0.        , 0.        , 0.        ,\n",
       "        0.        , 0.        , 0.        , 0.00625267, 0.        ,\n",
       "        0.00624666, 0.0062501 , 0.        , 0.        , 0.00625   ,\n",
       "        0.        , 0.        , 0.00628309, 0.00625277, 0.00627715,\n",
       "        0.        , 0.        , 0.        , 0.        , 0.00625057,\n",
       "        0.        , 0.        , 0.00624714, 0.00624809, 0.        ,\n",
       "        0.00625343, 0.00765396, 0.00624371, 0.00624962, 0.00624943,\n",
       "        0.        , 0.00624962, 0.00624886, 0.00625668, 0.00624533,\n",
       "        0.        , 0.        , 0.00624962, 0.        , 0.        ,\n",
       "        0.        , 0.        , 0.        , 0.00624857, 0.00625076,\n",
       "        0.00624866, 0.0062459 , 0.00625019, 0.0062499 , 0.00624809,\n",
       "        0.        , 0.00625086, 0.00624876, 0.00624781, 0.        ,\n",
       "        0.        , 0.        , 0.        , 0.00624743, 0.        ,\n",
       "        0.00625029, 0.        , 0.        , 0.        , 0.        ,\n",
       "        0.00624704, 0.        , 0.        , 0.00624771, 0.00624876,\n",
       "        0.        , 0.        , 0.        , 0.00624924, 0.00304022,\n",
       "        0.00628538, 0.        , 0.        , 0.        , 0.0062458 ,\n",
       "        0.00600176, 0.00047073, 0.00037204, 0.0019954 , 0.00088867,\n",
       "        0.00038254, 0.00078835, 0.00038934, 0.00111293, 0.00045453,\n",
       "        0.00074329, 0.00063213, 0.00049005, 0.00044637, 0.0008926 ,\n",
       "        0.00630569, 0.00577381, 0.00076516, 0.00073175, 0.00137371,\n",
       "        0.0008185 , 0.00077027, 0.00146488, 0.00628195, 0.        ,\n",
       "        0.        , 0.        , 0.00625553, 0.        , 0.        ,\n",
       "        0.00625315, 0.        , 0.00765471, 0.00621986, 0.        ]),\n",
       " 'param_n_neighbors': masked_array(data=[1, 1, 1, 1, 2, 2, 2, 2, 3, 3, 3, 3, 4, 4, 4, 4, 5, 5,\n",
       "                    5, 5, 6, 6, 6, 6, 7, 7, 7, 7, 8, 8, 8, 8, 9, 9, 9, 9,\n",
       "                    10, 10, 10, 10, 11, 11, 11, 11, 12, 12, 12, 12, 13, 13,\n",
       "                    13, 13, 14, 14, 14, 14, 15, 15, 15, 15, 16, 16, 16, 16,\n",
       "                    17, 17, 17, 17, 18, 18, 18, 18, 19, 19, 19, 19, 20, 20,\n",
       "                    20, 20, 21, 21, 21, 21, 22, 22, 22, 22, 23, 23, 23, 23,\n",
       "                    24, 24, 24, 24, 25, 25, 25, 25, 26, 26, 26, 26, 27, 27,\n",
       "                    27, 27, 28, 28, 28, 28, 29, 29, 29, 29, 30, 30, 30, 30,\n",
       "                    31, 31, 31, 31, 32, 32, 32, 32, 33, 33, 33, 33, 34, 34,\n",
       "                    34, 34, 35, 35, 35, 35, 36, 36, 36, 36, 37, 37, 37, 37,\n",
       "                    38, 38, 38, 38, 39, 39, 39, 39, 40, 40, 40, 40, 41, 41,\n",
       "                    41, 41, 42, 42, 42, 42, 43, 43, 43, 43, 44, 44, 44, 44,\n",
       "                    45, 45, 45, 45, 46, 46, 46, 46, 47, 47, 47, 47, 48, 48,\n",
       "                    48, 48, 49, 49, 49, 49, 50, 50, 50, 50],\n",
       "              mask=[False, False, False, False, False, False, False, False,\n",
       "                    False, False, False, False, False, False, False, False,\n",
       "                    False, False, False, False, False, False, False, False,\n",
       "                    False, False, False, False, False, False, False, False,\n",
       "                    False, False, False, False, False, False, False, False,\n",
       "                    False, False, False, False, False, False, False, False,\n",
       "                    False, False, False, False, False, False, False, False,\n",
       "                    False, False, False, False, False, False, False, False,\n",
       "                    False, False, False, False, False, False, False, False,\n",
       "                    False, False, False, False, False, False, False, False,\n",
       "                    False, False, False, False, False, False, False, False,\n",
       "                    False, False, False, False, False, False, False, False,\n",
       "                    False, False, False, False, False, False, False, False,\n",
       "                    False, False, False, False, False, False, False, False,\n",
       "                    False, False, False, False, False, False, False, False,\n",
       "                    False, False, False, False, False, False, False, False,\n",
       "                    False, False, False, False, False, False, False, False,\n",
       "                    False, False, False, False, False, False, False, False,\n",
       "                    False, False, False, False, False, False, False, False,\n",
       "                    False, False, False, False, False, False, False, False,\n",
       "                    False, False, False, False, False, False, False, False,\n",
       "                    False, False, False, False, False, False, False, False,\n",
       "                    False, False, False, False, False, False, False, False,\n",
       "                    False, False, False, False, False, False, False, False,\n",
       "                    False, False, False, False, False, False, False, False],\n",
       "        fill_value='?',\n",
       "             dtype=object),\n",
       " 'param_p': masked_array(data=[1, 1, 2, 2, 1, 1, 2, 2, 1, 1, 2, 2, 1, 1, 2, 2, 1, 1,\n",
       "                    2, 2, 1, 1, 2, 2, 1, 1, 2, 2, 1, 1, 2, 2, 1, 1, 2, 2,\n",
       "                    1, 1, 2, 2, 1, 1, 2, 2, 1, 1, 2, 2, 1, 1, 2, 2, 1, 1,\n",
       "                    2, 2, 1, 1, 2, 2, 1, 1, 2, 2, 1, 1, 2, 2, 1, 1, 2, 2,\n",
       "                    1, 1, 2, 2, 1, 1, 2, 2, 1, 1, 2, 2, 1, 1, 2, 2, 1, 1,\n",
       "                    2, 2, 1, 1, 2, 2, 1, 1, 2, 2, 1, 1, 2, 2, 1, 1, 2, 2,\n",
       "                    1, 1, 2, 2, 1, 1, 2, 2, 1, 1, 2, 2, 1, 1, 2, 2, 1, 1,\n",
       "                    2, 2, 1, 1, 2, 2, 1, 1, 2, 2, 1, 1, 2, 2, 1, 1, 2, 2,\n",
       "                    1, 1, 2, 2, 1, 1, 2, 2, 1, 1, 2, 2, 1, 1, 2, 2, 1, 1,\n",
       "                    2, 2, 1, 1, 2, 2, 1, 1, 2, 2, 1, 1, 2, 2, 1, 1, 2, 2,\n",
       "                    1, 1, 2, 2, 1, 1, 2, 2, 1, 1, 2, 2, 1, 1, 2, 2, 1, 1,\n",
       "                    2, 2],\n",
       "              mask=[False, False, False, False, False, False, False, False,\n",
       "                    False, False, False, False, False, False, False, False,\n",
       "                    False, False, False, False, False, False, False, False,\n",
       "                    False, False, False, False, False, False, False, False,\n",
       "                    False, False, False, False, False, False, False, False,\n",
       "                    False, False, False, False, False, False, False, False,\n",
       "                    False, False, False, False, False, False, False, False,\n",
       "                    False, False, False, False, False, False, False, False,\n",
       "                    False, False, False, False, False, False, False, False,\n",
       "                    False, False, False, False, False, False, False, False,\n",
       "                    False, False, False, False, False, False, False, False,\n",
       "                    False, False, False, False, False, False, False, False,\n",
       "                    False, False, False, False, False, False, False, False,\n",
       "                    False, False, False, False, False, False, False, False,\n",
       "                    False, False, False, False, False, False, False, False,\n",
       "                    False, False, False, False, False, False, False, False,\n",
       "                    False, False, False, False, False, False, False, False,\n",
       "                    False, False, False, False, False, False, False, False,\n",
       "                    False, False, False, False, False, False, False, False,\n",
       "                    False, False, False, False, False, False, False, False,\n",
       "                    False, False, False, False, False, False, False, False,\n",
       "                    False, False, False, False, False, False, False, False,\n",
       "                    False, False, False, False, False, False, False, False,\n",
       "                    False, False, False, False, False, False, False, False,\n",
       "                    False, False, False, False, False, False, False, False],\n",
       "        fill_value='?',\n",
       "             dtype=object),\n",
       " 'param_weights': masked_array(data=['uniform', 'distance', 'uniform', 'distance',\n",
       "                    'uniform', 'distance', 'uniform', 'distance',\n",
       "                    'uniform', 'distance', 'uniform', 'distance',\n",
       "                    'uniform', 'distance', 'uniform', 'distance',\n",
       "                    'uniform', 'distance', 'uniform', 'distance',\n",
       "                    'uniform', 'distance', 'uniform', 'distance',\n",
       "                    'uniform', 'distance', 'uniform', 'distance',\n",
       "                    'uniform', 'distance', 'uniform', 'distance',\n",
       "                    'uniform', 'distance', 'uniform', 'distance',\n",
       "                    'uniform', 'distance', 'uniform', 'distance',\n",
       "                    'uniform', 'distance', 'uniform', 'distance',\n",
       "                    'uniform', 'distance', 'uniform', 'distance',\n",
       "                    'uniform', 'distance', 'uniform', 'distance',\n",
       "                    'uniform', 'distance', 'uniform', 'distance',\n",
       "                    'uniform', 'distance', 'uniform', 'distance',\n",
       "                    'uniform', 'distance', 'uniform', 'distance',\n",
       "                    'uniform', 'distance', 'uniform', 'distance',\n",
       "                    'uniform', 'distance', 'uniform', 'distance',\n",
       "                    'uniform', 'distance', 'uniform', 'distance',\n",
       "                    'uniform', 'distance', 'uniform', 'distance',\n",
       "                    'uniform', 'distance', 'uniform', 'distance',\n",
       "                    'uniform', 'distance', 'uniform', 'distance',\n",
       "                    'uniform', 'distance', 'uniform', 'distance',\n",
       "                    'uniform', 'distance', 'uniform', 'distance',\n",
       "                    'uniform', 'distance', 'uniform', 'distance',\n",
       "                    'uniform', 'distance', 'uniform', 'distance',\n",
       "                    'uniform', 'distance', 'uniform', 'distance',\n",
       "                    'uniform', 'distance', 'uniform', 'distance',\n",
       "                    'uniform', 'distance', 'uniform', 'distance',\n",
       "                    'uniform', 'distance', 'uniform', 'distance',\n",
       "                    'uniform', 'distance', 'uniform', 'distance',\n",
       "                    'uniform', 'distance', 'uniform', 'distance',\n",
       "                    'uniform', 'distance', 'uniform', 'distance',\n",
       "                    'uniform', 'distance', 'uniform', 'distance',\n",
       "                    'uniform', 'distance', 'uniform', 'distance',\n",
       "                    'uniform', 'distance', 'uniform', 'distance',\n",
       "                    'uniform', 'distance', 'uniform', 'distance',\n",
       "                    'uniform', 'distance', 'uniform', 'distance',\n",
       "                    'uniform', 'distance', 'uniform', 'distance',\n",
       "                    'uniform', 'distance', 'uniform', 'distance',\n",
       "                    'uniform', 'distance', 'uniform', 'distance',\n",
       "                    'uniform', 'distance', 'uniform', 'distance',\n",
       "                    'uniform', 'distance', 'uniform', 'distance',\n",
       "                    'uniform', 'distance', 'uniform', 'distance',\n",
       "                    'uniform', 'distance', 'uniform', 'distance',\n",
       "                    'uniform', 'distance', 'uniform', 'distance',\n",
       "                    'uniform', 'distance', 'uniform', 'distance',\n",
       "                    'uniform', 'distance', 'uniform', 'distance',\n",
       "                    'uniform', 'distance', 'uniform', 'distance',\n",
       "                    'uniform', 'distance', 'uniform', 'distance'],\n",
       "              mask=[False, False, False, False, False, False, False, False,\n",
       "                    False, False, False, False, False, False, False, False,\n",
       "                    False, False, False, False, False, False, False, False,\n",
       "                    False, False, False, False, False, False, False, False,\n",
       "                    False, False, False, False, False, False, False, False,\n",
       "                    False, False, False, False, False, False, False, False,\n",
       "                    False, False, False, False, False, False, False, False,\n",
       "                    False, False, False, False, False, False, False, False,\n",
       "                    False, False, False, False, False, False, False, False,\n",
       "                    False, False, False, False, False, False, False, False,\n",
       "                    False, False, False, False, False, False, False, False,\n",
       "                    False, False, False, False, False, False, False, False,\n",
       "                    False, False, False, False, False, False, False, False,\n",
       "                    False, False, False, False, False, False, False, False,\n",
       "                    False, False, False, False, False, False, False, False,\n",
       "                    False, False, False, False, False, False, False, False,\n",
       "                    False, False, False, False, False, False, False, False,\n",
       "                    False, False, False, False, False, False, False, False,\n",
       "                    False, False, False, False, False, False, False, False,\n",
       "                    False, False, False, False, False, False, False, False,\n",
       "                    False, False, False, False, False, False, False, False,\n",
       "                    False, False, False, False, False, False, False, False,\n",
       "                    False, False, False, False, False, False, False, False,\n",
       "                    False, False, False, False, False, False, False, False,\n",
       "                    False, False, False, False, False, False, False, False],\n",
       "        fill_value='?',\n",
       "             dtype=object),\n",
       " 'params': [{'n_neighbors': 1, 'p': 1, 'weights': 'uniform'},\n",
       "  {'n_neighbors': 1, 'p': 1, 'weights': 'distance'},\n",
       "  {'n_neighbors': 1, 'p': 2, 'weights': 'uniform'},\n",
       "  {'n_neighbors': 1, 'p': 2, 'weights': 'distance'},\n",
       "  {'n_neighbors': 2, 'p': 1, 'weights': 'uniform'},\n",
       "  {'n_neighbors': 2, 'p': 1, 'weights': 'distance'},\n",
       "  {'n_neighbors': 2, 'p': 2, 'weights': 'uniform'},\n",
       "  {'n_neighbors': 2, 'p': 2, 'weights': 'distance'},\n",
       "  {'n_neighbors': 3, 'p': 1, 'weights': 'uniform'},\n",
       "  {'n_neighbors': 3, 'p': 1, 'weights': 'distance'},\n",
       "  {'n_neighbors': 3, 'p': 2, 'weights': 'uniform'},\n",
       "  {'n_neighbors': 3, 'p': 2, 'weights': 'distance'},\n",
       "  {'n_neighbors': 4, 'p': 1, 'weights': 'uniform'},\n",
       "  {'n_neighbors': 4, 'p': 1, 'weights': 'distance'},\n",
       "  {'n_neighbors': 4, 'p': 2, 'weights': 'uniform'},\n",
       "  {'n_neighbors': 4, 'p': 2, 'weights': 'distance'},\n",
       "  {'n_neighbors': 5, 'p': 1, 'weights': 'uniform'},\n",
       "  {'n_neighbors': 5, 'p': 1, 'weights': 'distance'},\n",
       "  {'n_neighbors': 5, 'p': 2, 'weights': 'uniform'},\n",
       "  {'n_neighbors': 5, 'p': 2, 'weights': 'distance'},\n",
       "  {'n_neighbors': 6, 'p': 1, 'weights': 'uniform'},\n",
       "  {'n_neighbors': 6, 'p': 1, 'weights': 'distance'},\n",
       "  {'n_neighbors': 6, 'p': 2, 'weights': 'uniform'},\n",
       "  {'n_neighbors': 6, 'p': 2, 'weights': 'distance'},\n",
       "  {'n_neighbors': 7, 'p': 1, 'weights': 'uniform'},\n",
       "  {'n_neighbors': 7, 'p': 1, 'weights': 'distance'},\n",
       "  {'n_neighbors': 7, 'p': 2, 'weights': 'uniform'},\n",
       "  {'n_neighbors': 7, 'p': 2, 'weights': 'distance'},\n",
       "  {'n_neighbors': 8, 'p': 1, 'weights': 'uniform'},\n",
       "  {'n_neighbors': 8, 'p': 1, 'weights': 'distance'},\n",
       "  {'n_neighbors': 8, 'p': 2, 'weights': 'uniform'},\n",
       "  {'n_neighbors': 8, 'p': 2, 'weights': 'distance'},\n",
       "  {'n_neighbors': 9, 'p': 1, 'weights': 'uniform'},\n",
       "  {'n_neighbors': 9, 'p': 1, 'weights': 'distance'},\n",
       "  {'n_neighbors': 9, 'p': 2, 'weights': 'uniform'},\n",
       "  {'n_neighbors': 9, 'p': 2, 'weights': 'distance'},\n",
       "  {'n_neighbors': 10, 'p': 1, 'weights': 'uniform'},\n",
       "  {'n_neighbors': 10, 'p': 1, 'weights': 'distance'},\n",
       "  {'n_neighbors': 10, 'p': 2, 'weights': 'uniform'},\n",
       "  {'n_neighbors': 10, 'p': 2, 'weights': 'distance'},\n",
       "  {'n_neighbors': 11, 'p': 1, 'weights': 'uniform'},\n",
       "  {'n_neighbors': 11, 'p': 1, 'weights': 'distance'},\n",
       "  {'n_neighbors': 11, 'p': 2, 'weights': 'uniform'},\n",
       "  {'n_neighbors': 11, 'p': 2, 'weights': 'distance'},\n",
       "  {'n_neighbors': 12, 'p': 1, 'weights': 'uniform'},\n",
       "  {'n_neighbors': 12, 'p': 1, 'weights': 'distance'},\n",
       "  {'n_neighbors': 12, 'p': 2, 'weights': 'uniform'},\n",
       "  {'n_neighbors': 12, 'p': 2, 'weights': 'distance'},\n",
       "  {'n_neighbors': 13, 'p': 1, 'weights': 'uniform'},\n",
       "  {'n_neighbors': 13, 'p': 1, 'weights': 'distance'},\n",
       "  {'n_neighbors': 13, 'p': 2, 'weights': 'uniform'},\n",
       "  {'n_neighbors': 13, 'p': 2, 'weights': 'distance'},\n",
       "  {'n_neighbors': 14, 'p': 1, 'weights': 'uniform'},\n",
       "  {'n_neighbors': 14, 'p': 1, 'weights': 'distance'},\n",
       "  {'n_neighbors': 14, 'p': 2, 'weights': 'uniform'},\n",
       "  {'n_neighbors': 14, 'p': 2, 'weights': 'distance'},\n",
       "  {'n_neighbors': 15, 'p': 1, 'weights': 'uniform'},\n",
       "  {'n_neighbors': 15, 'p': 1, 'weights': 'distance'},\n",
       "  {'n_neighbors': 15, 'p': 2, 'weights': 'uniform'},\n",
       "  {'n_neighbors': 15, 'p': 2, 'weights': 'distance'},\n",
       "  {'n_neighbors': 16, 'p': 1, 'weights': 'uniform'},\n",
       "  {'n_neighbors': 16, 'p': 1, 'weights': 'distance'},\n",
       "  {'n_neighbors': 16, 'p': 2, 'weights': 'uniform'},\n",
       "  {'n_neighbors': 16, 'p': 2, 'weights': 'distance'},\n",
       "  {'n_neighbors': 17, 'p': 1, 'weights': 'uniform'},\n",
       "  {'n_neighbors': 17, 'p': 1, 'weights': 'distance'},\n",
       "  {'n_neighbors': 17, 'p': 2, 'weights': 'uniform'},\n",
       "  {'n_neighbors': 17, 'p': 2, 'weights': 'distance'},\n",
       "  {'n_neighbors': 18, 'p': 1, 'weights': 'uniform'},\n",
       "  {'n_neighbors': 18, 'p': 1, 'weights': 'distance'},\n",
       "  {'n_neighbors': 18, 'p': 2, 'weights': 'uniform'},\n",
       "  {'n_neighbors': 18, 'p': 2, 'weights': 'distance'},\n",
       "  {'n_neighbors': 19, 'p': 1, 'weights': 'uniform'},\n",
       "  {'n_neighbors': 19, 'p': 1, 'weights': 'distance'},\n",
       "  {'n_neighbors': 19, 'p': 2, 'weights': 'uniform'},\n",
       "  {'n_neighbors': 19, 'p': 2, 'weights': 'distance'},\n",
       "  {'n_neighbors': 20, 'p': 1, 'weights': 'uniform'},\n",
       "  {'n_neighbors': 20, 'p': 1, 'weights': 'distance'},\n",
       "  {'n_neighbors': 20, 'p': 2, 'weights': 'uniform'},\n",
       "  {'n_neighbors': 20, 'p': 2, 'weights': 'distance'},\n",
       "  {'n_neighbors': 21, 'p': 1, 'weights': 'uniform'},\n",
       "  {'n_neighbors': 21, 'p': 1, 'weights': 'distance'},\n",
       "  {'n_neighbors': 21, 'p': 2, 'weights': 'uniform'},\n",
       "  {'n_neighbors': 21, 'p': 2, 'weights': 'distance'},\n",
       "  {'n_neighbors': 22, 'p': 1, 'weights': 'uniform'},\n",
       "  {'n_neighbors': 22, 'p': 1, 'weights': 'distance'},\n",
       "  {'n_neighbors': 22, 'p': 2, 'weights': 'uniform'},\n",
       "  {'n_neighbors': 22, 'p': 2, 'weights': 'distance'},\n",
       "  {'n_neighbors': 23, 'p': 1, 'weights': 'uniform'},\n",
       "  {'n_neighbors': 23, 'p': 1, 'weights': 'distance'},\n",
       "  {'n_neighbors': 23, 'p': 2, 'weights': 'uniform'},\n",
       "  {'n_neighbors': 23, 'p': 2, 'weights': 'distance'},\n",
       "  {'n_neighbors': 24, 'p': 1, 'weights': 'uniform'},\n",
       "  {'n_neighbors': 24, 'p': 1, 'weights': 'distance'},\n",
       "  {'n_neighbors': 24, 'p': 2, 'weights': 'uniform'},\n",
       "  {'n_neighbors': 24, 'p': 2, 'weights': 'distance'},\n",
       "  {'n_neighbors': 25, 'p': 1, 'weights': 'uniform'},\n",
       "  {'n_neighbors': 25, 'p': 1, 'weights': 'distance'},\n",
       "  {'n_neighbors': 25, 'p': 2, 'weights': 'uniform'},\n",
       "  {'n_neighbors': 25, 'p': 2, 'weights': 'distance'},\n",
       "  {'n_neighbors': 26, 'p': 1, 'weights': 'uniform'},\n",
       "  {'n_neighbors': 26, 'p': 1, 'weights': 'distance'},\n",
       "  {'n_neighbors': 26, 'p': 2, 'weights': 'uniform'},\n",
       "  {'n_neighbors': 26, 'p': 2, 'weights': 'distance'},\n",
       "  {'n_neighbors': 27, 'p': 1, 'weights': 'uniform'},\n",
       "  {'n_neighbors': 27, 'p': 1, 'weights': 'distance'},\n",
       "  {'n_neighbors': 27, 'p': 2, 'weights': 'uniform'},\n",
       "  {'n_neighbors': 27, 'p': 2, 'weights': 'distance'},\n",
       "  {'n_neighbors': 28, 'p': 1, 'weights': 'uniform'},\n",
       "  {'n_neighbors': 28, 'p': 1, 'weights': 'distance'},\n",
       "  {'n_neighbors': 28, 'p': 2, 'weights': 'uniform'},\n",
       "  {'n_neighbors': 28, 'p': 2, 'weights': 'distance'},\n",
       "  {'n_neighbors': 29, 'p': 1, 'weights': 'uniform'},\n",
       "  {'n_neighbors': 29, 'p': 1, 'weights': 'distance'},\n",
       "  {'n_neighbors': 29, 'p': 2, 'weights': 'uniform'},\n",
       "  {'n_neighbors': 29, 'p': 2, 'weights': 'distance'},\n",
       "  {'n_neighbors': 30, 'p': 1, 'weights': 'uniform'},\n",
       "  {'n_neighbors': 30, 'p': 1, 'weights': 'distance'},\n",
       "  {'n_neighbors': 30, 'p': 2, 'weights': 'uniform'},\n",
       "  {'n_neighbors': 30, 'p': 2, 'weights': 'distance'},\n",
       "  {'n_neighbors': 31, 'p': 1, 'weights': 'uniform'},\n",
       "  {'n_neighbors': 31, 'p': 1, 'weights': 'distance'},\n",
       "  {'n_neighbors': 31, 'p': 2, 'weights': 'uniform'},\n",
       "  {'n_neighbors': 31, 'p': 2, 'weights': 'distance'},\n",
       "  {'n_neighbors': 32, 'p': 1, 'weights': 'uniform'},\n",
       "  {'n_neighbors': 32, 'p': 1, 'weights': 'distance'},\n",
       "  {'n_neighbors': 32, 'p': 2, 'weights': 'uniform'},\n",
       "  {'n_neighbors': 32, 'p': 2, 'weights': 'distance'},\n",
       "  {'n_neighbors': 33, 'p': 1, 'weights': 'uniform'},\n",
       "  {'n_neighbors': 33, 'p': 1, 'weights': 'distance'},\n",
       "  {'n_neighbors': 33, 'p': 2, 'weights': 'uniform'},\n",
       "  {'n_neighbors': 33, 'p': 2, 'weights': 'distance'},\n",
       "  {'n_neighbors': 34, 'p': 1, 'weights': 'uniform'},\n",
       "  {'n_neighbors': 34, 'p': 1, 'weights': 'distance'},\n",
       "  {'n_neighbors': 34, 'p': 2, 'weights': 'uniform'},\n",
       "  {'n_neighbors': 34, 'p': 2, 'weights': 'distance'},\n",
       "  {'n_neighbors': 35, 'p': 1, 'weights': 'uniform'},\n",
       "  {'n_neighbors': 35, 'p': 1, 'weights': 'distance'},\n",
       "  {'n_neighbors': 35, 'p': 2, 'weights': 'uniform'},\n",
       "  {'n_neighbors': 35, 'p': 2, 'weights': 'distance'},\n",
       "  {'n_neighbors': 36, 'p': 1, 'weights': 'uniform'},\n",
       "  {'n_neighbors': 36, 'p': 1, 'weights': 'distance'},\n",
       "  {'n_neighbors': 36, 'p': 2, 'weights': 'uniform'},\n",
       "  {'n_neighbors': 36, 'p': 2, 'weights': 'distance'},\n",
       "  {'n_neighbors': 37, 'p': 1, 'weights': 'uniform'},\n",
       "  {'n_neighbors': 37, 'p': 1, 'weights': 'distance'},\n",
       "  {'n_neighbors': 37, 'p': 2, 'weights': 'uniform'},\n",
       "  {'n_neighbors': 37, 'p': 2, 'weights': 'distance'},\n",
       "  {'n_neighbors': 38, 'p': 1, 'weights': 'uniform'},\n",
       "  {'n_neighbors': 38, 'p': 1, 'weights': 'distance'},\n",
       "  {'n_neighbors': 38, 'p': 2, 'weights': 'uniform'},\n",
       "  {'n_neighbors': 38, 'p': 2, 'weights': 'distance'},\n",
       "  {'n_neighbors': 39, 'p': 1, 'weights': 'uniform'},\n",
       "  {'n_neighbors': 39, 'p': 1, 'weights': 'distance'},\n",
       "  {'n_neighbors': 39, 'p': 2, 'weights': 'uniform'},\n",
       "  {'n_neighbors': 39, 'p': 2, 'weights': 'distance'},\n",
       "  {'n_neighbors': 40, 'p': 1, 'weights': 'uniform'},\n",
       "  {'n_neighbors': 40, 'p': 1, 'weights': 'distance'},\n",
       "  {'n_neighbors': 40, 'p': 2, 'weights': 'uniform'},\n",
       "  {'n_neighbors': 40, 'p': 2, 'weights': 'distance'},\n",
       "  {'n_neighbors': 41, 'p': 1, 'weights': 'uniform'},\n",
       "  {'n_neighbors': 41, 'p': 1, 'weights': 'distance'},\n",
       "  {'n_neighbors': 41, 'p': 2, 'weights': 'uniform'},\n",
       "  {'n_neighbors': 41, 'p': 2, 'weights': 'distance'},\n",
       "  {'n_neighbors': 42, 'p': 1, 'weights': 'uniform'},\n",
       "  {'n_neighbors': 42, 'p': 1, 'weights': 'distance'},\n",
       "  {'n_neighbors': 42, 'p': 2, 'weights': 'uniform'},\n",
       "  {'n_neighbors': 42, 'p': 2, 'weights': 'distance'},\n",
       "  {'n_neighbors': 43, 'p': 1, 'weights': 'uniform'},\n",
       "  {'n_neighbors': 43, 'p': 1, 'weights': 'distance'},\n",
       "  {'n_neighbors': 43, 'p': 2, 'weights': 'uniform'},\n",
       "  {'n_neighbors': 43, 'p': 2, 'weights': 'distance'},\n",
       "  {'n_neighbors': 44, 'p': 1, 'weights': 'uniform'},\n",
       "  {'n_neighbors': 44, 'p': 1, 'weights': 'distance'},\n",
       "  {'n_neighbors': 44, 'p': 2, 'weights': 'uniform'},\n",
       "  {'n_neighbors': 44, 'p': 2, 'weights': 'distance'},\n",
       "  {'n_neighbors': 45, 'p': 1, 'weights': 'uniform'},\n",
       "  {'n_neighbors': 45, 'p': 1, 'weights': 'distance'},\n",
       "  {'n_neighbors': 45, 'p': 2, 'weights': 'uniform'},\n",
       "  {'n_neighbors': 45, 'p': 2, 'weights': 'distance'},\n",
       "  {'n_neighbors': 46, 'p': 1, 'weights': 'uniform'},\n",
       "  {'n_neighbors': 46, 'p': 1, 'weights': 'distance'},\n",
       "  {'n_neighbors': 46, 'p': 2, 'weights': 'uniform'},\n",
       "  {'n_neighbors': 46, 'p': 2, 'weights': 'distance'},\n",
       "  {'n_neighbors': 47, 'p': 1, 'weights': 'uniform'},\n",
       "  {'n_neighbors': 47, 'p': 1, 'weights': 'distance'},\n",
       "  {'n_neighbors': 47, 'p': 2, 'weights': 'uniform'},\n",
       "  {'n_neighbors': 47, 'p': 2, 'weights': 'distance'},\n",
       "  {'n_neighbors': 48, 'p': 1, 'weights': 'uniform'},\n",
       "  {'n_neighbors': 48, 'p': 1, 'weights': 'distance'},\n",
       "  {'n_neighbors': 48, 'p': 2, 'weights': 'uniform'},\n",
       "  {'n_neighbors': 48, 'p': 2, 'weights': 'distance'},\n",
       "  {'n_neighbors': 49, 'p': 1, 'weights': 'uniform'},\n",
       "  {'n_neighbors': 49, 'p': 1, 'weights': 'distance'},\n",
       "  {'n_neighbors': 49, 'p': 2, 'weights': 'uniform'},\n",
       "  {'n_neighbors': 49, 'p': 2, 'weights': 'distance'},\n",
       "  {'n_neighbors': 50, 'p': 1, 'weights': 'uniform'},\n",
       "  {'n_neighbors': 50, 'p': 1, 'weights': 'distance'},\n",
       "  {'n_neighbors': 50, 'p': 2, 'weights': 'uniform'},\n",
       "  {'n_neighbors': 50, 'p': 2, 'weights': 'distance'}],\n",
       " 'split0_test_score': array([0.70833333, 0.70833333, 0.70833333, 0.70833333, 0.83333333,\n",
       "        0.70833333, 0.79166667, 0.70833333, 0.70833333, 0.70833333,\n",
       "        0.70833333, 0.70833333, 0.75      , 0.70833333, 0.75      ,\n",
       "        0.70833333, 0.75      , 0.70833333, 0.75      , 0.70833333,\n",
       "        0.75      , 0.70833333, 0.75      , 0.70833333, 0.75      ,\n",
       "        0.70833333, 0.75      , 0.70833333, 0.75      , 0.70833333,\n",
       "        0.70833333, 0.70833333, 0.70833333, 0.70833333, 0.66666667,\n",
       "        0.70833333, 0.66666667, 0.70833333, 0.66666667, 0.70833333,\n",
       "        0.66666667, 0.70833333, 0.66666667, 0.70833333, 0.66666667,\n",
       "        0.70833333, 0.70833333, 0.70833333, 0.70833333, 0.70833333,\n",
       "        0.75      , 0.70833333, 0.70833333, 0.70833333, 0.70833333,\n",
       "        0.70833333, 0.70833333, 0.70833333, 0.70833333, 0.70833333,\n",
       "        0.70833333, 0.70833333, 0.70833333, 0.70833333, 0.70833333,\n",
       "        0.70833333, 0.70833333, 0.70833333, 0.70833333, 0.70833333,\n",
       "        0.70833333, 0.70833333, 0.66666667, 0.70833333, 0.66666667,\n",
       "        0.70833333, 0.66666667, 0.70833333, 0.66666667, 0.70833333,\n",
       "        0.70833333, 0.70833333, 0.66666667, 0.70833333, 0.66666667,\n",
       "        0.70833333, 0.66666667, 0.70833333, 0.70833333, 0.70833333,\n",
       "        0.66666667, 0.70833333, 0.70833333, 0.70833333, 0.66666667,\n",
       "        0.70833333, 0.70833333, 0.70833333, 0.75      , 0.70833333,\n",
       "        0.70833333, 0.70833333, 0.70833333, 0.70833333, 0.70833333,\n",
       "        0.70833333, 0.70833333, 0.70833333, 0.70833333, 0.70833333,\n",
       "        0.70833333, 0.70833333, 0.75      , 0.70833333, 0.70833333,\n",
       "        0.70833333, 0.70833333, 0.70833333, 0.66666667, 0.70833333,\n",
       "        0.70833333, 0.70833333, 0.70833333, 0.70833333, 0.70833333,\n",
       "        0.70833333, 0.70833333, 0.70833333, 0.70833333, 0.70833333,\n",
       "        0.70833333, 0.70833333, 0.70833333, 0.70833333, 0.66666667,\n",
       "        0.70833333, 0.70833333, 0.70833333, 0.70833333, 0.70833333,\n",
       "        0.66666667, 0.70833333, 0.70833333, 0.70833333, 0.66666667,\n",
       "        0.70833333, 0.70833333, 0.70833333, 0.66666667, 0.70833333,\n",
       "        0.70833333, 0.70833333, 0.70833333, 0.70833333, 0.70833333,\n",
       "        0.70833333, 0.70833333, 0.70833333, 0.70833333, 0.70833333,\n",
       "        0.70833333, 0.70833333, 0.70833333, 0.70833333, 0.70833333,\n",
       "        0.70833333, 0.70833333, 0.70833333, 0.70833333, 0.70833333,\n",
       "        0.70833333, 0.70833333, 0.70833333, 0.70833333, 0.70833333,\n",
       "        0.70833333, 0.70833333, 0.70833333, 0.70833333, 0.70833333,\n",
       "        0.70833333, 0.70833333, 0.70833333, 0.70833333, 0.70833333,\n",
       "        0.70833333, 0.70833333, 0.70833333, 0.70833333, 0.70833333,\n",
       "        0.70833333, 0.70833333, 0.70833333, 0.70833333, 0.70833333,\n",
       "        0.70833333, 0.70833333, 0.70833333, 0.66666667, 0.70833333]),\n",
       " 'split1_test_score': array([0.70833333, 0.70833333, 0.70833333, 0.70833333, 0.75      ,\n",
       "        0.66666667, 0.75      , 0.66666667, 0.70833333, 0.66666667,\n",
       "        0.70833333, 0.70833333, 0.70833333, 0.66666667, 0.66666667,\n",
       "        0.70833333, 0.75      , 0.70833333, 0.75      , 0.75      ,\n",
       "        0.79166667, 0.75      , 0.79166667, 0.75      , 0.83333333,\n",
       "        0.75      , 0.83333333, 0.79166667, 0.70833333, 0.75      ,\n",
       "        0.70833333, 0.79166667, 0.83333333, 0.79166667, 0.83333333,\n",
       "        0.79166667, 0.79166667, 0.79166667, 0.75      , 0.75      ,\n",
       "        0.79166667, 0.79166667, 0.79166667, 0.79166667, 0.79166667,\n",
       "        0.79166667, 0.79166667, 0.79166667, 0.79166667, 0.79166667,\n",
       "        0.79166667, 0.79166667, 0.79166667, 0.79166667, 0.75      ,\n",
       "        0.75      , 0.79166667, 0.75      , 0.75      , 0.75      ,\n",
       "        0.79166667, 0.75      , 0.75      , 0.75      , 0.75      ,\n",
       "        0.75      , 0.70833333, 0.70833333, 0.75      , 0.75      ,\n",
       "        0.75      , 0.70833333, 0.70833333, 0.70833333, 0.75      ,\n",
       "        0.75      , 0.75      , 0.70833333, 0.75      , 0.70833333,\n",
       "        0.66666667, 0.70833333, 0.75      , 0.75      , 0.66666667,\n",
       "        0.75      , 0.75      , 0.70833333, 0.66666667, 0.70833333,\n",
       "        0.75      , 0.75      , 0.75      , 0.70833333, 0.75      ,\n",
       "        0.66666667, 0.75      , 0.70833333, 0.75      , 0.75      ,\n",
       "        0.66666667, 0.75      , 0.70833333, 0.70833333, 0.625     ,\n",
       "        0.75      , 0.70833333, 0.70833333, 0.66666667, 0.75      ,\n",
       "        0.70833333, 0.70833333, 0.625     , 0.75      , 0.70833333,\n",
       "        0.70833333, 0.625     , 0.75      , 0.70833333, 0.70833333,\n",
       "        0.70833333, 0.75      , 0.70833333, 0.75      , 0.70833333,\n",
       "        0.75      , 0.70833333, 0.75      , 0.70833333, 0.75      ,\n",
       "        0.70833333, 0.75      , 0.625     , 0.75      , 0.66666667,\n",
       "        0.70833333, 0.625     , 0.75      , 0.66666667, 0.70833333,\n",
       "        0.625     , 0.75      , 0.66666667, 0.70833333, 0.625     ,\n",
       "        0.75      , 0.75      , 0.75      , 0.625     , 0.75      ,\n",
       "        0.70833333, 0.75      , 0.625     , 0.75      , 0.70833333,\n",
       "        0.79166667, 0.625     , 0.75      , 0.66666667, 0.75      ,\n",
       "        0.625     , 0.75      , 0.66666667, 0.75      , 0.625     ,\n",
       "        0.75      , 0.66666667, 0.75      , 0.66666667, 0.70833333,\n",
       "        0.66666667, 0.75      , 0.625     , 0.70833333, 0.66666667,\n",
       "        0.70833333, 0.625     , 0.70833333, 0.66666667, 0.70833333,\n",
       "        0.58333333, 0.70833333, 0.66666667, 0.70833333, 0.625     ,\n",
       "        0.66666667, 0.66666667, 0.70833333, 0.625     , 0.66666667,\n",
       "        0.625     , 0.70833333, 0.625     , 0.70833333, 0.625     ,\n",
       "        0.70833333, 0.58333333, 0.70833333, 0.625     , 0.70833333]),\n",
       " 'split2_test_score': array([0.70833333, 0.70833333, 0.70833333, 0.70833333, 0.66666667,\n",
       "        0.70833333, 0.66666667, 0.70833333, 0.75      , 0.79166667,\n",
       "        0.83333333, 0.83333333, 0.75      , 0.79166667, 0.75      ,\n",
       "        0.83333333, 0.83333333, 0.79166667, 0.83333333, 0.79166667,\n",
       "        0.79166667, 0.75      , 0.75      , 0.79166667, 0.83333333,\n",
       "        0.79166667, 0.83333333, 0.79166667, 0.75      , 0.75      ,\n",
       "        0.83333333, 0.83333333, 0.79166667, 0.83333333, 0.79166667,\n",
       "        0.79166667, 0.75      , 0.75      , 0.79166667, 0.83333333,\n",
       "        0.83333333, 0.79166667, 0.79166667, 0.79166667, 0.83333333,\n",
       "        0.79166667, 0.79166667, 0.79166667, 0.79166667, 0.83333333,\n",
       "        0.875     , 0.79166667, 0.83333333, 0.83333333, 0.875     ,\n",
       "        0.83333333, 0.83333333, 0.79166667, 0.875     , 0.83333333,\n",
       "        0.91666667, 0.875     , 0.875     , 0.83333333, 0.83333333,\n",
       "        0.79166667, 0.875     , 0.79166667, 0.91666667, 0.875     ,\n",
       "        0.91666667, 0.83333333, 0.875     , 0.83333333, 0.83333333,\n",
       "        0.79166667, 0.91666667, 0.875     , 0.83333333, 0.83333333,\n",
       "        0.875     , 0.83333333, 0.79166667, 0.79166667, 0.83333333,\n",
       "        0.875     , 0.79166667, 0.875     , 0.79166667, 0.875     ,\n",
       "        0.79166667, 0.83333333, 0.79166667, 0.875     , 0.75      ,\n",
       "        0.875     , 0.75      , 0.83333333, 0.75      , 0.875     ,\n",
       "        0.83333333, 0.83333333, 0.75      , 0.875     , 0.83333333,\n",
       "        0.83333333, 0.79166667, 0.875     , 0.83333333, 0.875     ,\n",
       "        0.79166667, 0.91666667, 0.83333333, 0.83333333, 0.79166667,\n",
       "        0.91666667, 0.83333333, 0.875     , 0.875     , 0.91666667,\n",
       "        0.83333333, 0.875     , 0.83333333, 0.91666667, 0.875     ,\n",
       "        0.875     , 0.83333333, 0.875     , 0.83333333, 0.83333333,\n",
       "        0.83333333, 0.875     , 0.875     , 0.83333333, 0.83333333,\n",
       "        0.875     , 0.875     , 0.83333333, 0.79166667, 0.875     ,\n",
       "        0.875     , 0.83333333, 0.79166667, 0.83333333, 0.83333333,\n",
       "        0.83333333, 0.83333333, 0.875     , 0.83333333, 0.83333333,\n",
       "        0.79166667, 0.83333333, 0.79166667, 0.83333333, 0.79166667,\n",
       "        0.83333333, 0.79166667, 0.875     , 0.79166667, 0.83333333,\n",
       "        0.75      , 0.83333333, 0.83333333, 0.83333333, 0.83333333,\n",
       "        0.875     , 0.79166667, 0.83333333, 0.79166667, 0.875     ,\n",
       "        0.875     , 0.83333333, 0.79166667, 0.875     , 0.875     ,\n",
       "        0.83333333, 0.79166667, 0.83333333, 0.83333333, 0.83333333,\n",
       "        0.79166667, 0.83333333, 0.79166667, 0.83333333, 0.79166667,\n",
       "        0.83333333, 0.79166667, 0.83333333, 0.79166667, 0.875     ,\n",
       "        0.79166667, 0.875     , 0.75      , 0.875     , 0.79166667,\n",
       "        0.875     , 0.75      , 0.875     , 0.79166667, 0.875     ]),\n",
       " 'split3_test_score': array([0.75      , 0.75      , 0.75      , 0.75      , 0.70833333,\n",
       "        0.66666667, 0.66666667, 0.66666667, 0.66666667, 0.625     ,\n",
       "        0.625     , 0.625     , 0.70833333, 0.625     , 0.75      ,\n",
       "        0.66666667, 0.75      , 0.70833333, 0.75      , 0.66666667,\n",
       "        0.70833333, 0.66666667, 0.70833333, 0.66666667, 0.70833333,\n",
       "        0.66666667, 0.75      , 0.66666667, 0.66666667, 0.66666667,\n",
       "        0.70833333, 0.66666667, 0.83333333, 0.66666667, 0.75      ,\n",
       "        0.66666667, 0.75      , 0.66666667, 0.70833333, 0.66666667,\n",
       "        0.79166667, 0.66666667, 0.75      , 0.70833333, 0.83333333,\n",
       "        0.66666667, 0.75      , 0.70833333, 0.83333333, 0.66666667,\n",
       "        0.83333333, 0.66666667, 0.79166667, 0.79166667, 0.70833333,\n",
       "        0.75      , 0.875     , 0.79166667, 0.83333333, 0.70833333,\n",
       "        0.91666667, 0.79166667, 0.875     , 0.79166667, 0.91666667,\n",
       "        0.79166667, 0.83333333, 0.79166667, 0.95833333, 0.79166667,\n",
       "        0.79166667, 0.75      , 0.91666667, 0.75      , 0.875     ,\n",
       "        0.79166667, 0.95833333, 0.79166667, 0.83333333, 0.79166667,\n",
       "        0.95833333, 0.79166667, 0.875     , 0.79166667, 0.91666667,\n",
       "        0.79166667, 0.91666667, 0.75      , 0.875     , 0.79166667,\n",
       "        0.875     , 0.75      , 0.875     , 0.79166667, 0.83333333,\n",
       "        0.75      , 0.875     , 0.79166667, 0.875     , 0.75      ,\n",
       "        0.91666667, 0.79166667, 0.875     , 0.70833333, 0.875     ,\n",
       "        0.79166667, 0.83333333, 0.75      , 0.875     , 0.79166667,\n",
       "        0.79166667, 0.70833333, 0.875     , 0.79166667, 0.79166667,\n",
       "        0.70833333, 0.875     , 0.79166667, 0.83333333, 0.70833333,\n",
       "        0.875     , 0.79166667, 0.83333333, 0.70833333, 0.875     ,\n",
       "        0.79166667, 0.83333333, 0.75      , 0.875     , 0.75      ,\n",
       "        0.83333333, 0.75      , 0.79166667, 0.75      , 0.83333333,\n",
       "        0.70833333, 0.875     , 0.75      , 0.83333333, 0.70833333,\n",
       "        0.875     , 0.79166667, 0.83333333, 0.75      , 0.875     ,\n",
       "        0.75      , 0.875     , 0.75      , 0.79166667, 0.79166667,\n",
       "        0.83333333, 0.75      , 0.875     , 0.75      , 0.83333333,\n",
       "        0.70833333, 0.875     , 0.79166667, 0.83333333, 0.75      ,\n",
       "        0.875     , 0.75      , 0.875     , 0.79166667, 0.75      ,\n",
       "        0.75      , 0.75      , 0.79166667, 0.79166667, 0.75      ,\n",
       "        0.79166667, 0.75      , 0.79166667, 0.75      , 0.79166667,\n",
       "        0.75      , 0.75      , 0.75      , 0.83333333, 0.75      ,\n",
       "        0.75      , 0.75      , 0.79166667, 0.70833333, 0.79166667,\n",
       "        0.75      , 0.83333333, 0.70833333, 0.75      , 0.75      ,\n",
       "        0.83333333, 0.70833333, 0.79166667, 0.75      , 0.83333333,\n",
       "        0.75      , 0.75      , 0.75      , 0.83333333, 0.70833333]),\n",
       " 'split4_test_score': array([0.625     , 0.625     , 0.625     , 0.625     , 0.70833333,\n",
       "        0.66666667, 0.66666667, 0.66666667, 0.70833333, 0.70833333,\n",
       "        0.66666667, 0.66666667, 0.75      , 0.70833333, 0.70833333,\n",
       "        0.66666667, 0.58333333, 0.58333333, 0.54166667, 0.58333333,\n",
       "        0.66666667, 0.625     , 0.66666667, 0.58333333, 0.66666667,\n",
       "        0.625     , 0.66666667, 0.66666667, 0.66666667, 0.66666667,\n",
       "        0.70833333, 0.625     , 0.58333333, 0.58333333, 0.625     ,\n",
       "        0.66666667, 0.66666667, 0.625     , 0.70833333, 0.66666667,\n",
       "        0.66666667, 0.625     , 0.66666667, 0.70833333, 0.70833333,\n",
       "        0.66666667, 0.70833333, 0.70833333, 0.625     , 0.625     ,\n",
       "        0.66666667, 0.70833333, 0.70833333, 0.625     , 0.70833333,\n",
       "        0.66666667, 0.70833333, 0.70833333, 0.70833333, 0.66666667,\n",
       "        0.70833333, 0.66666667, 0.625     , 0.70833333, 0.75      ,\n",
       "        0.70833333, 0.75      , 0.70833333, 0.75      , 0.70833333,\n",
       "        0.75      , 0.70833333, 0.79166667, 0.70833333, 0.75      ,\n",
       "        0.66666667, 0.79166667, 0.70833333, 0.75      , 0.66666667,\n",
       "        0.79166667, 0.75      , 0.75      , 0.66666667, 0.83333333,\n",
       "        0.75      , 0.75      , 0.70833333, 0.83333333, 0.70833333,\n",
       "        0.70833333, 0.70833333, 0.83333333, 0.75      , 0.75      ,\n",
       "        0.70833333, 0.79166667, 0.70833333, 0.66666667, 0.625     ,\n",
       "        0.79166667, 0.70833333, 0.75      , 0.70833333, 0.75      ,\n",
       "        0.70833333, 0.70833333, 0.66666667, 0.75      , 0.70833333,\n",
       "        0.75      , 0.70833333, 0.75      , 0.70833333, 0.79166667,\n",
       "        0.70833333, 0.70833333, 0.70833333, 0.75      , 0.70833333,\n",
       "        0.66666667, 0.70833333, 0.79166667, 0.75      , 0.75      ,\n",
       "        0.70833333, 0.79166667, 0.75      , 0.75      , 0.70833333,\n",
       "        0.79166667, 0.75      , 0.70833333, 0.70833333, 0.79166667,\n",
       "        0.75      , 0.70833333, 0.70833333, 0.79166667, 0.75      ,\n",
       "        0.70833333, 0.70833333, 0.75      , 0.75      , 0.70833333,\n",
       "        0.70833333, 0.75      , 0.75      , 0.70833333, 0.75      ,\n",
       "        0.75      , 0.75      , 0.75      , 0.70833333, 0.75      ,\n",
       "        0.75      , 0.70833333, 0.70833333, 0.75      , 0.75      ,\n",
       "        0.70833333, 0.70833333, 0.75      , 0.75      , 0.70833333,\n",
       "        0.75      , 0.75      , 0.75      , 0.70833333, 0.75      ,\n",
       "        0.75      , 0.75      , 0.70833333, 0.75      , 0.75      ,\n",
       "        0.75      , 0.70833333, 0.75      , 0.75      , 0.75      ,\n",
       "        0.70833333, 0.75      , 0.70833333, 0.75      , 0.75      ,\n",
       "        0.75      , 0.70833333, 0.75      , 0.75      , 0.75      ,\n",
       "        0.70833333, 0.75      , 0.75      , 0.75      , 0.70833333,\n",
       "        0.75      , 0.70833333, 0.75      , 0.70833333, 0.75      ]),\n",
       " 'mean_test_score': array([0.7       , 0.7       , 0.7       , 0.7       , 0.73333333,\n",
       "        0.68333333, 0.70833333, 0.68333333, 0.70833333, 0.7       ,\n",
       "        0.70833333, 0.70833333, 0.73333333, 0.7       , 0.725     ,\n",
       "        0.71666667, 0.73333333, 0.7       , 0.725     , 0.7       ,\n",
       "        0.74166667, 0.7       , 0.73333333, 0.7       , 0.75833333,\n",
       "        0.70833333, 0.76666667, 0.725     , 0.70833333, 0.70833333,\n",
       "        0.73333333, 0.725     , 0.75      , 0.71666667, 0.73333333,\n",
       "        0.725     , 0.725     , 0.70833333, 0.725     , 0.725     ,\n",
       "        0.75      , 0.71666667, 0.73333333, 0.74166667, 0.76666667,\n",
       "        0.725     , 0.75      , 0.74166667, 0.75      , 0.725     ,\n",
       "        0.78333333, 0.73333333, 0.76666667, 0.75      , 0.75      ,\n",
       "        0.74166667, 0.78333333, 0.75      , 0.775     , 0.73333333,\n",
       "        0.80833333, 0.75833333, 0.76666667, 0.75833333, 0.79166667,\n",
       "        0.75      , 0.775     , 0.74166667, 0.81666667, 0.76666667,\n",
       "        0.78333333, 0.74166667, 0.79166667, 0.74166667, 0.775     ,\n",
       "        0.74166667, 0.81666667, 0.75833333, 0.76666667, 0.74166667,\n",
       "        0.8       , 0.75833333, 0.76666667, 0.74166667, 0.78333333,\n",
       "        0.775     , 0.775     , 0.75      , 0.775     , 0.75833333,\n",
       "        0.75833333, 0.75      , 0.79166667, 0.76666667, 0.75      ,\n",
       "        0.74166667, 0.775     , 0.75      , 0.75833333, 0.74166667,\n",
       "        0.78333333, 0.75833333, 0.75833333, 0.74166667, 0.75833333,\n",
       "        0.75833333, 0.75      , 0.74166667, 0.76666667, 0.76666667,\n",
       "        0.75      , 0.75      , 0.76666667, 0.75833333, 0.75833333,\n",
       "        0.75      , 0.75      , 0.76666667, 0.76666667, 0.75      ,\n",
       "        0.75833333, 0.76666667, 0.775     , 0.76666667, 0.78333333,\n",
       "        0.76666667, 0.775     , 0.76666667, 0.775     , 0.75      ,\n",
       "        0.775     , 0.76666667, 0.74166667, 0.75      , 0.75833333,\n",
       "        0.75      , 0.75833333, 0.75      , 0.75833333, 0.75      ,\n",
       "        0.75      , 0.75833333, 0.75      , 0.75      , 0.74166667,\n",
       "        0.75      , 0.78333333, 0.76666667, 0.725     , 0.76666667,\n",
       "        0.75833333, 0.75833333, 0.75      , 0.75      , 0.75833333,\n",
       "        0.75833333, 0.74166667, 0.76666667, 0.75      , 0.75833333,\n",
       "        0.73333333, 0.75      , 0.76666667, 0.76666667, 0.725     ,\n",
       "        0.76666667, 0.73333333, 0.76666667, 0.73333333, 0.75833333,\n",
       "        0.75833333, 0.75833333, 0.725     , 0.75833333, 0.75833333,\n",
       "        0.75      , 0.71666667, 0.75      , 0.75833333, 0.75      ,\n",
       "        0.70833333, 0.75      , 0.73333333, 0.74166667, 0.73333333,\n",
       "        0.74166667, 0.74166667, 0.74166667, 0.725     , 0.75      ,\n",
       "        0.73333333, 0.75      , 0.725     , 0.75833333, 0.73333333,\n",
       "        0.75833333, 0.7       , 0.75833333, 0.725     , 0.75      ]),\n",
       " 'std_test_score': array([0.04082483, 0.04082483, 0.04082483, 0.04082483, 0.05651942,\n",
       "        0.02041241, 0.05270463, 0.02041241, 0.02635231, 0.05527708,\n",
       "        0.06972167, 0.06972167, 0.02041241, 0.05527708, 0.03333333,\n",
       "        0.06123724, 0.08164966, 0.06666667, 0.09718253, 0.07168604,\n",
       "        0.04859127, 0.04859127, 0.04249183, 0.07168604, 0.06666667,\n",
       "        0.05892557, 0.06236096, 0.05651942, 0.0372678 , 0.0372678 ,\n",
       "        0.05      , 0.07728015, 0.09501462, 0.08897565, 0.07728015,\n",
       "        0.05651942, 0.05      , 0.05892557, 0.04249183, 0.06236096,\n",
       "        0.06972167, 0.06666667, 0.05651942, 0.04082483, 0.06770032,\n",
       "        0.05651942, 0.0372678 , 0.04082483, 0.0745356 , 0.07728015,\n",
       "        0.07168604, 0.05      , 0.05      , 0.0745356 , 0.06454972,\n",
       "        0.05527708, 0.06666667, 0.0372678 , 0.06770032, 0.05651942,\n",
       "        0.09354143, 0.07168604, 0.09718253, 0.04859127, 0.0745356 ,\n",
       "        0.0372678 , 0.06770032, 0.04082483, 0.10069205, 0.06236096,\n",
       "        0.07168604, 0.04859127, 0.09501462, 0.04859127, 0.07264832,\n",
       "        0.04859127, 0.10736749, 0.06666667, 0.06236096, 0.06123724,\n",
       "        0.10671874, 0.04859127, 0.06770032, 0.04859127, 0.1       ,\n",
       "        0.05651942, 0.08164966, 0.06454972, 0.07728015, 0.06666667,\n",
       "        0.07168604, 0.04564355, 0.05892557, 0.06236096, 0.05270463,\n",
       "        0.07168604, 0.05651942, 0.05270463, 0.06666667, 0.08079466,\n",
       "        0.08897565, 0.04859127, 0.06123724, 0.06666667, 0.08897565,\n",
       "        0.04859127, 0.05270463, 0.07168604, 0.07728015, 0.06236096,\n",
       "        0.0372678 , 0.08333333, 0.08579692, 0.04859127, 0.04082483,\n",
       "        0.08333333, 0.09128709, 0.06236096, 0.07728015, 0.08333333,\n",
       "        0.08079466, 0.06236096, 0.05651942, 0.07728015, 0.07637626,\n",
       "        0.06236096, 0.05651942, 0.05651942, 0.06770032, 0.04564355,\n",
       "        0.05651942, 0.05651942, 0.08498366, 0.04564355, 0.07637626,\n",
       "        0.06454972, 0.1       , 0.04564355, 0.06123724, 0.06454972,\n",
       "        0.10540926, 0.04859127, 0.05892557, 0.04564355, 0.09646531,\n",
       "        0.04564355, 0.06123724, 0.05651942, 0.07728015, 0.04249183,\n",
       "        0.04859127, 0.04082483, 0.08333333, 0.04564355, 0.04859127,\n",
       "        0.04859127, 0.08498366, 0.06236096, 0.05892557, 0.04082483,\n",
       "        0.08164966, 0.04564355, 0.07728015, 0.04249183, 0.06770032,\n",
       "        0.05651942, 0.04249183, 0.04249183, 0.05      , 0.06123724,\n",
       "        0.07168604, 0.04082483, 0.06236096, 0.06123724, 0.07168604,\n",
       "        0.04564355, 0.05527708, 0.04564355, 0.06666667, 0.04564355,\n",
       "        0.06972167, 0.04564355, 0.05      , 0.04859127, 0.06236096,\n",
       "        0.05527708, 0.06123724, 0.04859127, 0.05651942, 0.06972167,\n",
       "        0.07264832, 0.06454972, 0.05651942, 0.06123724, 0.07264832,\n",
       "        0.06123724, 0.06123724, 0.06123724, 0.07728015, 0.06454972]),\n",
       " 'rank_test_score': array([190, 190, 190, 190, 143, 199, 181, 199, 179, 190, 181, 181, 143,\n",
       "        190, 160, 177, 143, 188, 160, 190, 139, 190, 151, 190,  51, 181,\n",
       "         26, 171, 181, 181, 143, 160,  84, 175, 151, 171, 171, 181, 160,\n",
       "        160, 121, 177, 151, 123,  26, 171, 103, 123, 103, 160,  11, 151,\n",
       "         26, 103,  84, 123,   8, 103,  15, 143,   3,  74,  26,  51,   5,\n",
       "        103,  15, 123,   1,  26,  11, 123,   7, 123,  17, 139,   2,  51,\n",
       "         26, 139,   4,  74,  50, 139,  11,  17,  25,  84,  17,  51,  74,\n",
       "         84,   5,  26, 103, 123,  17, 103,  74, 123,  11,  51,  51, 122,\n",
       "         51,  51,  84, 123,  26,  26, 103,  84,  26,  51,  74,  84,  84,\n",
       "         26,  26,  84,  74,  26,  17,  26,   8,  26,  17,  26,  17,  84,\n",
       "         17,  26, 123,  84,  74,  84,  51,  84,  74,  84, 103,  51, 103,\n",
       "        103, 123,  84,   8,  26, 160,  26,  51,  51, 103,  84,  51,  51,\n",
       "        123,  26, 103,  51, 143,  84,  26,  26, 159,  26, 151,  26, 151,\n",
       "         51,  74,  51, 160,  51,  74, 103, 175, 103,  51, 103, 179, 103,\n",
       "        151, 123, 151, 123, 123, 123, 160, 103, 143,  84, 160,  51, 143,\n",
       "         51, 188,  51, 160,  84])}"
      ]
     },
     "execution_count": 41,
     "metadata": {},
     "output_type": "execute_result"
    }
   ],
   "source": [
    "gs = GridSearchCV(estimator = KNeighborsClassifier(),\n",
    "                  param_grid = {\"n_neighbors\": range(1,51),\n",
    "                                \"weights\": ['uniform', 'distance'],\n",
    "                                \"p\": [1,2]},\n",
    "                  cv=5)\n",
    "\n",
    "gs.fit(X_train, y_train)\n",
    "\n",
    "gs.cv_results_"
   ]
  },
  {
   "cell_type": "code",
   "execution_count": 43,
   "id": "1660dadf",
   "metadata": {},
   "outputs": [
    {
     "data": {
      "text/html": [
       "<div>\n",
       "<style scoped>\n",
       "    .dataframe tbody tr th:only-of-type {\n",
       "        vertical-align: middle;\n",
       "    }\n",
       "\n",
       "    .dataframe tbody tr th {\n",
       "        vertical-align: top;\n",
       "    }\n",
       "\n",
       "    .dataframe thead th {\n",
       "        text-align: right;\n",
       "    }\n",
       "</style>\n",
       "<table border=\"1\" class=\"dataframe\">\n",
       "  <thead>\n",
       "    <tr style=\"text-align: right;\">\n",
       "      <th></th>\n",
       "      <th>mean_fit_time</th>\n",
       "      <th>std_fit_time</th>\n",
       "      <th>mean_score_time</th>\n",
       "      <th>std_score_time</th>\n",
       "      <th>param_n_neighbors</th>\n",
       "      <th>param_p</th>\n",
       "      <th>param_weights</th>\n",
       "      <th>params</th>\n",
       "      <th>split0_test_score</th>\n",
       "      <th>split1_test_score</th>\n",
       "      <th>split2_test_score</th>\n",
       "      <th>split3_test_score</th>\n",
       "      <th>split4_test_score</th>\n",
       "      <th>mean_test_score</th>\n",
       "      <th>std_test_score</th>\n",
       "      <th>rank_test_score</th>\n",
       "    </tr>\n",
       "  </thead>\n",
       "  <tbody>\n",
       "    <tr>\n",
       "      <th>0</th>\n",
       "      <td>0.001303</td>\n",
       "      <td>0.000879</td>\n",
       "      <td>0.013766</td>\n",
       "      <td>0.017015</td>\n",
       "      <td>1</td>\n",
       "      <td>1</td>\n",
       "      <td>uniform</td>\n",
       "      <td>{'n_neighbors': 1, 'p': 1, 'weights': 'uniform'}</td>\n",
       "      <td>0.708333</td>\n",
       "      <td>0.708333</td>\n",
       "      <td>0.708333</td>\n",
       "      <td>0.750000</td>\n",
       "      <td>0.625000</td>\n",
       "      <td>0.700000</td>\n",
       "      <td>0.040825</td>\n",
       "      <td>190</td>\n",
       "    </tr>\n",
       "    <tr>\n",
       "      <th>1</th>\n",
       "      <td>0.000000</td>\n",
       "      <td>0.000000</td>\n",
       "      <td>0.000000</td>\n",
       "      <td>0.000000</td>\n",
       "      <td>1</td>\n",
       "      <td>1</td>\n",
       "      <td>distance</td>\n",
       "      <td>{'n_neighbors': 1, 'p': 1, 'weights': 'distance'}</td>\n",
       "      <td>0.708333</td>\n",
       "      <td>0.708333</td>\n",
       "      <td>0.708333</td>\n",
       "      <td>0.750000</td>\n",
       "      <td>0.625000</td>\n",
       "      <td>0.700000</td>\n",
       "      <td>0.040825</td>\n",
       "      <td>190</td>\n",
       "    </tr>\n",
       "    <tr>\n",
       "      <th>2</th>\n",
       "      <td>0.003124</td>\n",
       "      <td>0.006247</td>\n",
       "      <td>0.000000</td>\n",
       "      <td>0.000000</td>\n",
       "      <td>1</td>\n",
       "      <td>2</td>\n",
       "      <td>uniform</td>\n",
       "      <td>{'n_neighbors': 1, 'p': 2, 'weights': 'uniform'}</td>\n",
       "      <td>0.708333</td>\n",
       "      <td>0.708333</td>\n",
       "      <td>0.708333</td>\n",
       "      <td>0.750000</td>\n",
       "      <td>0.625000</td>\n",
       "      <td>0.700000</td>\n",
       "      <td>0.040825</td>\n",
       "      <td>190</td>\n",
       "    </tr>\n",
       "    <tr>\n",
       "      <th>3</th>\n",
       "      <td>0.006244</td>\n",
       "      <td>0.007647</td>\n",
       "      <td>0.000000</td>\n",
       "      <td>0.000000</td>\n",
       "      <td>1</td>\n",
       "      <td>2</td>\n",
       "      <td>distance</td>\n",
       "      <td>{'n_neighbors': 1, 'p': 2, 'weights': 'distance'}</td>\n",
       "      <td>0.708333</td>\n",
       "      <td>0.708333</td>\n",
       "      <td>0.708333</td>\n",
       "      <td>0.750000</td>\n",
       "      <td>0.625000</td>\n",
       "      <td>0.700000</td>\n",
       "      <td>0.040825</td>\n",
       "      <td>190</td>\n",
       "    </tr>\n",
       "    <tr>\n",
       "      <th>4</th>\n",
       "      <td>0.000000</td>\n",
       "      <td>0.000000</td>\n",
       "      <td>0.003126</td>\n",
       "      <td>0.006251</td>\n",
       "      <td>2</td>\n",
       "      <td>1</td>\n",
       "      <td>uniform</td>\n",
       "      <td>{'n_neighbors': 2, 'p': 1, 'weights': 'uniform'}</td>\n",
       "      <td>0.833333</td>\n",
       "      <td>0.750000</td>\n",
       "      <td>0.666667</td>\n",
       "      <td>0.708333</td>\n",
       "      <td>0.708333</td>\n",
       "      <td>0.733333</td>\n",
       "      <td>0.056519</td>\n",
       "      <td>143</td>\n",
       "    </tr>\n",
       "  </tbody>\n",
       "</table>\n",
       "</div>"
      ],
      "text/plain": [
       "   mean_fit_time  std_fit_time  mean_score_time  std_score_time  \\\n",
       "0       0.001303      0.000879         0.013766        0.017015   \n",
       "1       0.000000      0.000000         0.000000        0.000000   \n",
       "2       0.003124      0.006247         0.000000        0.000000   \n",
       "3       0.006244      0.007647         0.000000        0.000000   \n",
       "4       0.000000      0.000000         0.003126        0.006251   \n",
       "\n",
       "  param_n_neighbors param_p param_weights  \\\n",
       "0                 1       1       uniform   \n",
       "1                 1       1      distance   \n",
       "2                 1       2       uniform   \n",
       "3                 1       2      distance   \n",
       "4                 2       1       uniform   \n",
       "\n",
       "                                              params  split0_test_score  \\\n",
       "0   {'n_neighbors': 1, 'p': 1, 'weights': 'uniform'}           0.708333   \n",
       "1  {'n_neighbors': 1, 'p': 1, 'weights': 'distance'}           0.708333   \n",
       "2   {'n_neighbors': 1, 'p': 2, 'weights': 'uniform'}           0.708333   \n",
       "3  {'n_neighbors': 1, 'p': 2, 'weights': 'distance'}           0.708333   \n",
       "4   {'n_neighbors': 2, 'p': 1, 'weights': 'uniform'}           0.833333   \n",
       "\n",
       "   split1_test_score  split2_test_score  split3_test_score  split4_test_score  \\\n",
       "0           0.708333           0.708333           0.750000           0.625000   \n",
       "1           0.708333           0.708333           0.750000           0.625000   \n",
       "2           0.708333           0.708333           0.750000           0.625000   \n",
       "3           0.708333           0.708333           0.750000           0.625000   \n",
       "4           0.750000           0.666667           0.708333           0.708333   \n",
       "\n",
       "   mean_test_score  std_test_score  rank_test_score  \n",
       "0         0.700000        0.040825              190  \n",
       "1         0.700000        0.040825              190  \n",
       "2         0.700000        0.040825              190  \n",
       "3         0.700000        0.040825              190  \n",
       "4         0.733333        0.056519              143  "
      ]
     },
     "execution_count": 43,
     "metadata": {},
     "output_type": "execute_result"
    }
   ],
   "source": [
    "results = pd.DataFrame(gs.cv_results_)\n",
    "results.head()"
   ]
  },
  {
   "cell_type": "code",
   "execution_count": 44,
   "id": "fbc209c3",
   "metadata": {},
   "outputs": [
    {
     "data": {
      "text/html": [
       "<div>\n",
       "<style scoped>\n",
       "    .dataframe tbody tr th:only-of-type {\n",
       "        vertical-align: middle;\n",
       "    }\n",
       "\n",
       "    .dataframe tbody tr th {\n",
       "        vertical-align: top;\n",
       "    }\n",
       "\n",
       "    .dataframe thead th {\n",
       "        text-align: right;\n",
       "    }\n",
       "</style>\n",
       "<table border=\"1\" class=\"dataframe\">\n",
       "  <thead>\n",
       "    <tr style=\"text-align: right;\">\n",
       "      <th></th>\n",
       "      <th>param_n_neighbors</th>\n",
       "      <th>param_weights</th>\n",
       "      <th>param_p</th>\n",
       "      <th>mean_test_score</th>\n",
       "      <th>rank_test_score</th>\n",
       "    </tr>\n",
       "  </thead>\n",
       "  <tbody>\n",
       "    <tr>\n",
       "      <th>0</th>\n",
       "      <td>1</td>\n",
       "      <td>uniform</td>\n",
       "      <td>1</td>\n",
       "      <td>0.700000</td>\n",
       "      <td>190</td>\n",
       "    </tr>\n",
       "    <tr>\n",
       "      <th>1</th>\n",
       "      <td>1</td>\n",
       "      <td>distance</td>\n",
       "      <td>1</td>\n",
       "      <td>0.700000</td>\n",
       "      <td>190</td>\n",
       "    </tr>\n",
       "    <tr>\n",
       "      <th>2</th>\n",
       "      <td>1</td>\n",
       "      <td>uniform</td>\n",
       "      <td>2</td>\n",
       "      <td>0.700000</td>\n",
       "      <td>190</td>\n",
       "    </tr>\n",
       "    <tr>\n",
       "      <th>3</th>\n",
       "      <td>1</td>\n",
       "      <td>distance</td>\n",
       "      <td>2</td>\n",
       "      <td>0.700000</td>\n",
       "      <td>190</td>\n",
       "    </tr>\n",
       "    <tr>\n",
       "      <th>4</th>\n",
       "      <td>2</td>\n",
       "      <td>uniform</td>\n",
       "      <td>1</td>\n",
       "      <td>0.733333</td>\n",
       "      <td>143</td>\n",
       "    </tr>\n",
       "    <tr>\n",
       "      <th>5</th>\n",
       "      <td>2</td>\n",
       "      <td>distance</td>\n",
       "      <td>1</td>\n",
       "      <td>0.683333</td>\n",
       "      <td>199</td>\n",
       "    </tr>\n",
       "    <tr>\n",
       "      <th>6</th>\n",
       "      <td>2</td>\n",
       "      <td>uniform</td>\n",
       "      <td>2</td>\n",
       "      <td>0.708333</td>\n",
       "      <td>181</td>\n",
       "    </tr>\n",
       "    <tr>\n",
       "      <th>7</th>\n",
       "      <td>2</td>\n",
       "      <td>distance</td>\n",
       "      <td>2</td>\n",
       "      <td>0.683333</td>\n",
       "      <td>199</td>\n",
       "    </tr>\n",
       "    <tr>\n",
       "      <th>8</th>\n",
       "      <td>3</td>\n",
       "      <td>uniform</td>\n",
       "      <td>1</td>\n",
       "      <td>0.708333</td>\n",
       "      <td>179</td>\n",
       "    </tr>\n",
       "    <tr>\n",
       "      <th>9</th>\n",
       "      <td>3</td>\n",
       "      <td>distance</td>\n",
       "      <td>1</td>\n",
       "      <td>0.700000</td>\n",
       "      <td>190</td>\n",
       "    </tr>\n",
       "  </tbody>\n",
       "</table>\n",
       "</div>"
      ],
      "text/plain": [
       "  param_n_neighbors param_weights param_p  mean_test_score  rank_test_score\n",
       "0                 1       uniform       1         0.700000              190\n",
       "1                 1      distance       1         0.700000              190\n",
       "2                 1       uniform       2         0.700000              190\n",
       "3                 1      distance       2         0.700000              190\n",
       "4                 2       uniform       1         0.733333              143\n",
       "5                 2      distance       1         0.683333              199\n",
       "6                 2       uniform       2         0.708333              181\n",
       "7                 2      distance       2         0.683333              199\n",
       "8                 3       uniform       1         0.708333              179\n",
       "9                 3      distance       1         0.700000              190"
      ]
     },
     "execution_count": 44,
     "metadata": {},
     "output_type": "execute_result"
    }
   ],
   "source": [
    "results[[\"param_n_neighbors\", \"param_weights\", \"param_p\", \"mean_test_score\", \"rank_test_score\"]].head(10)"
   ]
  },
  {
   "cell_type": "code",
   "execution_count": 45,
   "id": "610a3f6e",
   "metadata": {},
   "outputs": [
    {
     "data": {
      "text/plain": [
       "0.8166666666666668"
      ]
     },
     "execution_count": 45,
     "metadata": {},
     "output_type": "execute_result"
    }
   ],
   "source": [
    "gs.best_score_"
   ]
  },
  {
   "cell_type": "code",
   "execution_count": 46,
   "id": "c2fdd489",
   "metadata": {},
   "outputs": [
    {
     "data": {
      "text/plain": [
       "{'n_neighbors': 18, 'p': 1, 'weights': 'uniform'}"
      ]
     },
     "execution_count": 46,
     "metadata": {},
     "output_type": "execute_result"
    }
   ],
   "source": [
    "gs.best_params_"
   ]
  },
  {
   "cell_type": "code",
   "execution_count": 47,
   "id": "36ea85e8",
   "metadata": {},
   "outputs": [
    {
     "data": {
      "text/plain": [
       "0.8"
      ]
     },
     "execution_count": 47,
     "metadata": {},
     "output_type": "execute_result"
    }
   ],
   "source": [
    "y_pred = gs.predict(X_test)\n",
    "accuracy_score(y_test, y_pred)"
   ]
  },
  {
   "cell_type": "code",
   "execution_count": 48,
   "id": "336d3cd6",
   "metadata": {},
   "outputs": [
    {
     "data": {
      "text/plain": [
       "0.7666666666666667"
      ]
     },
     "execution_count": 48,
     "metadata": {},
     "output_type": "execute_result"
    }
   ],
   "source": [
    "rs = RandomizedSearchCV(estimator = KNeighborsClassifier(),\n",
    "                        param_distributions = {\"n_neighbors\": range(1,51),\n",
    "                                               \"weights\": ['uniform', 'distance'],\n",
    "                                               \"p\": [1,2]},\n",
    "                        cv=5,\n",
    "                        n_iter=10)\n",
    "\n",
    "rs.fit(X_train, y_train)\n",
    "\n",
    "rs.best_score_"
   ]
  },
  {
   "cell_type": "code",
   "execution_count": 49,
   "id": "ac733d91",
   "metadata": {},
   "outputs": [
    {
     "data": {
      "text/plain": [
       "{'weights': 'distance', 'p': 1, 'n_neighbors': 18}"
      ]
     },
     "execution_count": 49,
     "metadata": {},
     "output_type": "execute_result"
    }
   ],
   "source": [
    "rs.best_params_"
   ]
  },
  {
   "cell_type": "code",
   "execution_count": 50,
   "id": "62dcc8eb",
   "metadata": {},
   "outputs": [
    {
     "data": {
      "text/plain": [
       "0.7666666666666667"
      ]
     },
     "execution_count": 50,
     "metadata": {},
     "output_type": "execute_result"
    }
   ],
   "source": [
    "y_pred = rs.predict(X_test)\n",
    "accuracy_score(y_test, y_pred)"
   ]
  },
  {
   "cell_type": "markdown",
   "id": "0a6a0ac5",
   "metadata": {},
   "source": [
    "##  4) Use sklearn to implement K-NN and mlxtend to plot the desicion boundary"
   ]
  },
  {
   "cell_type": "code",
   "execution_count": null,
   "id": "cdabdabb",
   "metadata": {},
   "outputs": [],
   "source": [
    "#pip install mlxtend"
   ]
  },
  {
   "cell_type": "code",
   "execution_count": 51,
   "id": "852bcf70",
   "metadata": {},
   "outputs": [],
   "source": [
    "from mlxtend.plotting import plot_decision_regions"
   ]
  },
  {
   "cell_type": "code",
   "execution_count": 52,
   "id": "0ae1270c",
   "metadata": {},
   "outputs": [
    {
     "data": {
      "text/plain": [
       "array([0, 0, 0, 0, 0, 0, 0, 0, 0, 0, 0, 0, 0, 0, 0, 0, 0, 0, 0, 0, 0, 0,\n",
       "       0, 0, 0, 0, 0, 0, 0, 0, 0, 0, 0, 0, 0, 0, 0, 0, 0, 0, 0, 0, 0, 0,\n",
       "       0, 0, 0, 0, 0, 0, 1, 1, 1, 1, 1, 1, 1, 1, 1, 1, 1, 1, 1, 1, 1, 1,\n",
       "       1, 1, 1, 1, 1, 1, 1, 1, 1, 1, 1, 1, 1, 1, 1, 1, 1, 1, 1, 1, 1, 1,\n",
       "       1, 1, 1, 1, 1, 1, 1, 1, 1, 1, 1, 1, 2, 2, 2, 2, 2, 2, 2, 2, 2, 2,\n",
       "       2, 2, 2, 2, 2, 2, 2, 2, 2, 2, 2, 2, 2, 2, 2, 2, 2, 2, 2, 2, 2, 2,\n",
       "       2, 2, 2, 2, 2, 2, 2, 2, 2, 2, 2, 2, 2, 2, 2, 2, 2, 2])"
      ]
     },
     "execution_count": 52,
     "metadata": {},
     "output_type": "execute_result"
    }
   ],
   "source": [
    "from sklearn.preprocessing import LabelEncoder\n",
    "\n",
    "le = LabelEncoder()\n",
    "y = le.fit_transform(y)\n",
    "y"
   ]
  },
  {
   "cell_type": "code",
   "execution_count": 53,
   "id": "234947e1",
   "metadata": {},
   "outputs": [],
   "source": [
    "X_train, X_test, y_train, y_test = train_test_split(X, y, test_size=0.2, random_state=42)"
   ]
  },
  {
   "cell_type": "code",
   "execution_count": 58,
   "id": "8a2ca98a",
   "metadata": {},
   "outputs": [
    {
     "data": {
      "text/plain": [
       "KNeighborsClassifier(n_neighbors=50)"
      ]
     },
     "execution_count": 58,
     "metadata": {},
     "output_type": "execute_result"
    }
   ],
   "source": [
    "k=50                     # try k=50\n",
    "model = KNeighborsClassifier(n_neighbors=k)\n",
    "model.fit(X_train, y_train)"
   ]
  },
  {
   "cell_type": "code",
   "execution_count": 59,
   "id": "5ebaad8e",
   "metadata": {},
   "outputs": [
    {
     "data": {
      "text/plain": [
       "0.9333333333333333"
      ]
     },
     "execution_count": 59,
     "metadata": {},
     "output_type": "execute_result"
    }
   ],
   "source": [
    "y_pred = model.predict(X_test)\n",
    "\n",
    "accuracy_score(y_test, y_pred)"
   ]
  },
  {
   "cell_type": "code",
   "execution_count": 61,
   "id": "2615288d",
   "metadata": {},
   "outputs": [
    {
     "name": "stderr",
     "output_type": "stream",
     "text": [
      "C:\\ProgramData\\Anaconda3\\lib\\site-packages\\sklearn\\base.py:450: UserWarning: X does not have valid feature names, but KNeighborsClassifier was fitted with feature names\n",
      "  warnings.warn(\n"
     ]
    },
    {
     "data": {
      "image/png": "[encoded data removed]",
      "text/plain": [
       "<Figure size 432x288 with 1 Axes>"
      ]
     },
     "metadata": {
      "needs_background": "light"
     },
     "output_type": "display_data"
    }
   ],
   "source": [
    "plot_decision_regions(X_train.to_numpy(), y_train, clf = model) # change to test data\n",
    "plt.xlabel('sepal length')\n",
    "plt.ylabel('sepal width')\n",
    "plt.title(f\"Decision Regions using {k}-NN and the Test Data\");"
   ]
  },
  {
   "cell_type": "code",
   "execution_count": null,
   "id": "cccbb0cf",
   "metadata": {},
   "outputs": [],
   "source": []
  },
  {
   "cell_type": "code",
   "execution_count": null,
   "id": "617b739f",
   "metadata": {},
   "outputs": [],
   "source": []
  },
  {
   "cell_type": "code",
   "execution_count": null,
   "id": "142e6124",
   "metadata": {},
   "outputs": [],
   "source": []
  }
 ],
 "metadata": {
  "kernelspec": {
   "display_name": "Python 3 (ipykernel)",
   "language": "python",
   "name": "python3"
  },
  "language_info": {
   "codemirror_mode": {
    "name": "ipython",
    "version": 3
   },
   "file_extension": ".py",
   "mimetype": "text/x-python",
   "name": "python",
   "nbconvert_exporter": "python",
   "pygments_lexer": "ipython3",
   "version": "3.10.6"
  }
 },
 "nbformat": 4,
 "nbformat_minor": 5
}
